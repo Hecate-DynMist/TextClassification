{
 "cells": [
  {
   "cell_type": "code",
   "execution_count": 2,
   "metadata": {
    "collapsed": true
   },
   "outputs": [],
   "source": [
    "\"\"\"\n",
    "author: Hecate\n",
    "\"\"\"\n",
    "import pandas as pd\n",
    "tagging = pd.read_excel('taggings.xlsx')\n",
    "tag = pd.read_excel('tags.xlsx')\n",
    "eign = pd.read_excel('Eigen56.xlsx')\n",
    "article = pd.read_excel('Articles56.xlsx')\n",
    "daily = pd.read_excel('Dailies56.xlsx')\n",
    "\n",
    "def merge(dfo):\n",
    "    df = pd.merge(dfo,tagging,left_on='id',right_on='taggable_id',how='inner')\n",
    "    df1 = pd.merge(df,tag,left_on='tag_id',right_on='id',how='inner') \\\n",
    "    .drop('id',1).rename(columns={'id_x':'id'})\n",
    "    df1 = df1[['id','title','content','name']]\n",
    "    df2 = df1.groupby(['id']).agg({'name':lambda x: set(x), \\\n",
    "                                'title':'first','content':'first'}).reset_index()\n",
    "    return df2\n",
    "\n",
    "merge(article).to_excel('article_tag_hecate.xlsx')\n",
    "merge(daily).to_excel('daily_tag_hecate.xlsx')"
   ]
  },
  {
   "cell_type": "code",
   "execution_count": 108,
   "metadata": {
    "collapsed": true
   },
   "outputs": [],
   "source": [
    "#!/usr/bin/env python3\n",
    "# -*- coding: utf-8 -*-\n",
    "\"\"\"\n",
    "Created on Tue Jul  9 13:14:52 2019\n",
    "\n",
    "@author: rain\n",
    "\"\"\"\n",
    "\n",
    "# 导入tags and tagging 数据\n",
    "import pandas as pd\n",
    "tagging = pd.read_excel('taggings.xlsx', index_col=None)\n",
    "tags = pd.read_excel('tags.xlsx', index_col=None)\n",
    "tags = tags[['id', 'name']]\n",
    "\n",
    "\n",
    "#  再进行long to wide 的转变 \n",
    "def long_to_wide(df):\n",
    "    title = df['title'].iloc[0]\n",
    "    content = df['content'].iloc[0]\n",
    "    tags = [list(df.name)]\n",
    "    new_df = pd.DataFrame({'title': title, 'content': content, 'tags': tags})\n",
    "    return(new_df)\n",
    "\n",
    "\n",
    "\n",
    "\n",
    "def merge(typ, data):\n",
    "    '''\n",
    "    typ 是tagging 这个dataframe里面'taggable_type'的类型，可以是['Article', 'Video', 'Topic', 'Daily', 'Document', 'Event'] 等\n",
    "    data 是导入的因为数据，包括：daily 和 articles\n",
    "    return - 合并好的数据集\n",
    "    '''\n",
    "    daily_tagging = tagging[tagging['taggable_type'] == typ][['tag_id', 'taggable_id']]\n",
    "    main_tags = pd.merge(left = daily_tagging, right = tags, right_on = 'id', left_on = 'tag_id', how = 'inner')\n",
    "    \n",
    "    daily_merge = pd.merge(left = data, right = main_tags, left_on = 'id', right_on = 'taggable_id', how ='left')\n",
    "    daily_merge = daily_merge[['id_x', 'title', 'content', 'name']]\n",
    "    daily_merge['name'] = daily_merge['name'].fillna(' ') \n",
    "    \n",
    "    new = long_to_wide(daily_merge.iloc[:4,:])   \n",
    "    for ele in list(daily_merge['id_x'].unique()):\n",
    "        df = daily_merge[daily_merge['id_x'] == ele]\n",
    "        new_df = long_to_wide(df)\n",
    "        new = pd.concat([new, new_df])\n",
    "        \n",
    "    new = new.drop_duplicates(subset = 'title')\n",
    "    return (new)\n",
    "dfa = merge('Article',article)"
   ]
  },
  {
   "cell_type": "code",
   "execution_count": null,
   "metadata": {
    "collapsed": true
   },
   "outputs": [],
   "source": []
  }
 ],
 "metadata": {
  "kernelspec": {
   "display_name": "Python 3",
   "language": "python",
   "name": "python3"
  },
  "language_info": {
   "codemirror_mode": {
    "name": "ipython",
    "version": 3
   },
   "file_extension": ".py",
   "mimetype": "text/x-python",
   "name": "python",
   "nbconvert_exporter": "python",
   "pygments_lexer": "ipython3",
   "version": "3.6.3"
  }
 },
 "nbformat": 4,
 "nbformat_minor": 2
}
