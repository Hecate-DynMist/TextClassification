{
 "cells": [
  {
   "cell_type": "code",
   "execution_count": 1,
   "metadata": {
    "collapsed": true
   },
   "outputs": [],
   "source": [
    "import requests\n",
    "from bs4 import BeautifulSoup\n",
    "\n",
    "def geturl(url, num_retries=2, user_agent='wswp', proxies=None):\n",
    "    \n",
    "    headers = {'User-Agent': user_agent} \n",
    "    try:\n",
    "        resp = requests.get(url, headers=headers, proxies=proxies) \n",
    "        html = resp.text #get text\n",
    "        if resp.status_code >= 400: #return None if error\n",
    "            print('Download error:', resp.text)\n",
    "            html = None\n",
    "            if num_retries and 500 <= resp.status_code < 600:\n",
    "                # error type 5\n",
    "                return download(url, num_retries - 1)#if server mistake, try two more times\n",
    "\n",
    "    except requests.exceptions.RequestException as e: #another errors，return none\n",
    "        print('Download error:', e)\n",
    "        html = None\n",
    "    return html \n"
   ]
  },
  {
   "cell_type": "code",
   "execution_count": 2,
   "metadata": {},
   "outputs": [
    {
     "name": "stdout",
     "output_type": "stream",
     "text": [
      "<!DOCTYPE html><html lang=\"en\"><head><meta charset=\"UTF-8\" /><meta content=\"width=device-width, initial-scale=1.0, maximum-scale=1.0, minimum-scale=1.0, user-scalable=no\" name=\"viewport\" /><meta content=\"ie=edge\" http-equiv=\"X-UA-Compatible\" /><meta content=\"telephone=no\" name=\"format-detection\" /><title>特斯联科技完成12亿元B1轮融资，光大控股、IDG、商汤投资 | 机器之心</title>\n",
      "<meta name=\"description\" content=\"本轮融资由光大控股、IDG资本领投，商汤科技跟投。\">\n",
      "<meta name=\"keywords\" content=\"特斯联, idg资本, 商汤科技\">\n",
      "<meta property=\"og:url\" content=\"https://www.jiqizhixin.com/articles/2018-10-25-8\">\n",
      "<meta property=\"og:title\" content=\"特斯联科技完成12亿元B1轮融资，光大控股、IDG、商汤投资\">\n",
      "<meta property=\"og:type\" content=\"website\">\n",
      "<meta property=\"og:site_name\" content=\"机器之心\">\n",
      "<meta name=\"twitter:card\" content=\"summary\">\n",
      "<meta name=\"twitter:site\" content=\"@SyncedTech\">\n",
      "<meta name=\"twitter:title\" content=\"特斯联科技完成12亿元B1轮融资，光大控股、IDG、商汤投资\">\n",
      "<meta name=\"twitter:description\" content=\"本轮融资由光大控股、IDG资本领投，商汤科技跟投。\">\n",
      "<meta name=\"twitter:image\" content=\"https://image.jiqizhixin.com/uploads/article/cover_image/63353b25-938e-4525-8674-5e6171430bd1/gongsi-tesilian.jpg\"><meta name=\"csrf-param\" content=\"authenticity_token\" />\n",
      "<meta name=\"csrf-token\" content=\"LYJdd/54SjEkYkZ31bhePuszeB1TrUcSxXY2iA2BW17ziqaa/L8L84W3nZm5T5MMBnojPhGOryz9TANwPUBOTQ==\" /><link rel=\"stylesheet\" media=\"all\" href=\"https://cdn.jiqizhixin.com/assets/packs/application-2b76a365.css\" /></head><body data-controller=\"articles\" id=\"articles-show\"><div class=\"article\"><div class=\"header__hr is-progress-bar\" id=\"js-progress-bar\"></div><div class=\"header__hr\"></div><header class=\"header t-no-shadow\" id=\"header\"><div class=\"u-container u-flex\"><div class=\"header__left\"><a alt=\"首页\" class=\"header__logo\" href=\"/\"><img alt=\"机器之心\" height=\"32\" src=\"https://cdn.jiqizhixin.com/assets/logo-black-814ff978059dd2570cc09283d01d1e29ebec941b013fc43d3ae6ce3b3f6c2d69.png\" /></a><div class=\"header-nav__current u-flex js-nav-current\"><span>产业</span><div class=\"header-nav__icon u-ml-6\"><span class=\"header-nav__icon--line t-before\"></span><span class=\"header-nav__icon--line t-after\"></span></div></div></div><div id=\"js-site-search\"></div><div class=\"header__btns\"><a class=\"header-other__link header-user__menu js-switch-sign\" href=\"javascript:;\" id=\"js-header-login\">登录</a></div></div></header><nav class=\"header-nav__list js-nav-list\"><div class=\"u-container header-nav__items\"><a class=\"u-borbot__item header-nav__item \" href=\"/\">探索</a><a class=\"u-borbot__item header-nav__item \" href=\"/categories/basic\">知识</a><a class=\"u-borbot__item header-nav__item is-active\" href=\"/industry\">产业</a><a class=\"u-borbot__item header-nav__item \" href=\"/columns\">专栏</a><a alt=\"AI商用搜索\" class=\"u-borbot__item header-nav__item\" href=\"https://handbook.jiqizhixin.com\" rel=\"noopener noreferrer\" target=\"_blank\">AI商用搜索</a></div></nav><div class=\"u-min-height-container u-container\"><div class=\"u-col-8\"><div class=\"u-flex article__header\"><div class=\"u-flex article-author\"><a alt=\"四月\" class=\"u-avatar-base article-author__avatar\" href=\"/users/45231e0e-9473-4158-b23a-da91651291c7\" rel=\"noopener noreferrer\" target=\"_blank\"><img alt=\"四月\" class=\"u-image-center\" src=\"https://image.jiqizhixin.com/uploads/user/avatar/45231e0e-9473-4158-b23a-da91651291c7/avatar-8b0e88bd-813b-4c07-b02b-fa5d0e5e3a9a.png\" /></a><div><p class=\"article-author__attr\"><a alt=\"四月\" class=\"article-author__name\" href=\"/users/45231e0e-9473-4158-b23a-da91651291c7\" rel=\"noopener noreferrer\" target=\"_blank\">四月</a><span class=\"article__type\">原创</span></p><time class=\"article__published\">2018/10/25 14:26</time></div></div><div class=\"article-des u-flex\"><div></div></div></div><h1 class=\"article__title\">特斯联科技完成12亿元B1轮融资，光大控股、IDG、商汤投资</h1></div><div class=\"u-col-8 article__inline\" id=\"js-article-inline\"><div class=\"article-sidebar js-article-sidebar\"><a alt=\"评论\" class=\"u-btn--circle article-sidebar__item is-comment js-go-comment\" data-tip=\"评论\" href=\"javascript:;\"><i class=\"iconfont icon-message-default\"></i></a><a alt=\"收藏文章\" class=\"u-btn--circle article-sidebar__item js-like-action\" data-path=\"/articles/2018-10-25-8\" data-tip=\"收藏文章\" href=\"javascript:;\"><i class=\"iconfont icon-like-default\"></i></a><a alt=\"分享文章\" class=\"u-btn--circle article-sidebar__item u-share__box\" data-tip=\"分享文章\" href=\"javascript:;\"><i class=\"iconfont icon-share-default\"></i><div class=\"u-share__list \"><button alt=\"分享到微信\" class=\"u-btn--circle u-share__item u-share__webtn\" href=\"javascript:;\"><i class=\"iconfont icon-wechat\"></i><div class=\"u-share__wechat js-qrcode\"></div></button><button alt=\"分享到微博\" class=\"u-btn--circle u-share__item js-share-btn\" data-title=\"\" data-type=\"weibo\" href=\"javascript:;\"><i class=\"iconfont icon-weibo\"></i></button><button alt=\"分享到推特\" class=\"u-btn--circle u-share__item js-share-btn\" data-title=\"\" data-type=\"twitter\" href=\"javascript:;\"><i class=\"iconfont icon-twitter\"></i></button></div></a></div><p class=\"article__summary\">本轮融资由光大控股、IDG资本领投，商汤科技跟投。</p><div class=\"article__content\" id=\"js-article-content\"><p><img src=\"https://image.jiqizhixin.com/uploads/editor/465cf17a-175f-49a7-9e7f-348a926151da/20170707161833_5806.png\" style=\"width: 700%;\" class=\"fr-fic fr-dib\">10月25日机器之心消息，<mark data-id=\"2d28aa9c-942d-471d-bd96-8bfefb7144e0\" data-type=\"technologies\">人工智能</mark><mark data-id=\"b45e1672-f1c3-4e2d-b720-ecf8975434f8\" data-type=\"technologies\">物联网</mark>赛道独角兽企业特斯联科技宣布完成B-1轮12亿元人民币融资。这是特斯联继去年7月获A轮5亿人民币融资后，再次刷新该领域单轮融资纪录。本轮融资由光大控股、IDG资本领投，<mark data-id=\"503867c2-7c48-41dc-92be-96b512955afe\" data-type=\"institutions\">商汤科技</mark>跟投。光源资本担任本轮独家财务顾问。据悉，<mark data-id=\"503867c2-7c48-41dc-92be-96b512955afe\" data-type=\"institutions\">商汤科技</mark>此次参投也将为特斯联的精细化运营及产品开发提供原创底层技术支持。</p><p>特斯联是光大控股孵化的高科技创新企业，承担着光大集团在新经济赛道上的重要使命，是目前<mark data-id=\"b45e1672-f1c3-4e2d-b720-ecf8975434f8\" data-type=\"technologies\">物联网</mark>领域快速成长的创业公司代表。2017年7月，特斯联完成超过5亿元A轮融资，由中国光大旗下基金与IDG资本，中信系产业资本以及其它战略投资人共同完成。</p><p><span style=\"background-color: initial; font-size: 1.7rem;\">特斯联以<mark data-id=\"2d28aa9c-942d-471d-bd96-8bfefb7144e0\" data-type=\"technologies\">人工智能</mark>+<mark data-id=\"b45e1672-f1c3-4e2d-b720-ecf8975434f8\" data-type=\"technologies\">物联网</mark>应用技术为核心，建设城市级智能<mark data-id=\"b45e1672-f1c3-4e2d-b720-ecf8975434f8\" data-type=\"technologies\">物联网</mark>平台，为政府、企业提供城市管理、建筑能源管理、公共安全管理等多场景整体解决方案。</span>其核心方案在于“城市级智能<mark data-id=\"b45e1672-f1c3-4e2d-b720-ecf8975434f8\" data-type=\"technologies\">物联网</mark>平台”，主要面向商用、市政等公共领域。据公开资料显示，<span style=\"background-color: initial; font-size: 1.7rem;\">特斯联科技已在全国落地8400多个项目，</span>特斯联在2017年的订单额超过十亿元。</p><p><img src=\"https://image.jiqizhixin.com/uploads/editor/51909730-d4f1-4d2e-bfe5-b5cb96f79664/1540448199563.jpeg\" class=\"fr-fic fr-dib\" style=\"width: 700%;\"></p><p>△特斯联科技宣布B-1轮融资12亿人民币（图中左起：IDG资本合伙人 牛奎光；<mark data-id=\"503867c2-7c48-41dc-92be-96b512955afe\" data-type=\"institutions\">商汤科技</mark>战略投资部董事总经理 王康曼；光大控股董事总经理、新经济投资负责人 艾渝；光源资本创始人、CEO 郑烜乐；特斯联科技副总裁 谢超）</p><p>光大控股执行董事兼首席执行官陈爽表示：“光大控股在投资上，始终坚持传统经济和新经济相结合。<strong>特斯联是光大控股旗下最大的<mark data-id=\"2d28aa9c-942d-471d-bd96-8bfefb7144e0\" data-type=\"technologies\">人工智能</mark><mark data-id=\"b45e1672-f1c3-4e2d-b720-ecf8975434f8\" data-type=\"technologies\">物联网</mark>平台，用新技术赋能，助力产业智能升级，所做是国之所需。</strong>在特斯联构建起的生态系统中，聚集头部技术，携手传统行业，让最前沿技术落地应用，共同创造价值。光大控股的另一个资产管理理念是深入企业发展，从战略制定、风险管控上赋予被投企业一系列发展动力。<strong>在特斯联的成长过程中，光大控股一直给予巨大帮助。</strong>我们已经欣喜地看到，特斯联成为了该领域内的独角兽，解决方案触达了诸多场景，未来还将进入养老、学校、医院等等。这是我们设定的目标，我们充满希望。”</p><p>在新技术与传统行业的交点上落子布局，这是新经济形态下的因势而谋、应势而动。光大控股董事总经理、新经济投资负责人艾渝说：“<strong>特斯联正搭建起万物智联的‘桥梁’，与传统行业深度结合、以AIoT技术赋能</strong>，不断夯实并持续扩大行业领先优势。”</p><p>与光大控股一同见证特斯联成长的IDG资本，也对其发展给予肯定。IDG资本创始董事长熊晓鸽，用看重特斯联在产业智能化趋势下，具备先发优势和深刻理解为连续投资做注脚。他说：“<strong>产业智能化是必然趋势，是无法忽视的大赛道。同时，IDG资本也高度认同特斯联这支年轻、卓越、有冲劲的团队。</strong>他们对前沿技术反应灵敏，对<mark data-id=\"2d28aa9c-942d-471d-bd96-8bfefb7144e0\" data-type=\"technologies\">人工智能</mark><mark data-id=\"b45e1672-f1c3-4e2d-b720-ecf8975434f8\" data-type=\"technologies\">物联网</mark>赋能应用有前瞻性，并非常注重落地执行。IDG资本不仅希望在资本层面能提供强有力支持，更希望成为特斯联最重要的合作伙伴。”</p><p>同样作为重要战略伙伴，以<mark data-id=\"2d28aa9c-942d-471d-bd96-8bfefb7144e0\" data-type=\"technologies\">人工智能</mark>技术创新为驱动的<mark data-id=\"503867c2-7c48-41dc-92be-96b512955afe\" data-type=\"institutions\">商汤科技</mark>此次选择投资，旨在与特斯联并肩拓展<mark data-id=\"2d28aa9c-942d-471d-bd96-8bfefb7144e0\" data-type=\"technologies\">人工智能</mark>及<mark data-id=\"b45e1672-f1c3-4e2d-b720-ecf8975434f8\" data-type=\"technologies\">物联网</mark>的落地应用，还将提供原创底层技术支持并深化双方合作，共创行业未来。<mark data-id=\"503867c2-7c48-41dc-92be-96b512955afe\" data-type=\"institutions\">商汤科技</mark>联合创始人、战略投融资负责人徐冰认为：“作为AI原创技术的先行者，<strong><mark data-id=\"503867c2-7c48-41dc-92be-96b512955afe\" data-type=\"institutions\">商汤科技</mark>在场景落地的过程中，需要与极具产品层优势的伙伴强强联手，打穿算法层与传统行业间的断层。特斯联融通终端场景和行业切实需求，同时有能力结合具体场景创新优化算法、解决实际问题。</strong>商汤希望能与这样处于行业头部的公司携手，在长周期内创造更大价值。”</p><p><mark data-id=\"2d28aa9c-942d-471d-bd96-8bfefb7144e0\" data-type=\"technologies\">人工智能</mark>结合<mark data-id=\"b45e1672-f1c3-4e2d-b720-ecf8975434f8\" data-type=\"technologies\">物联网</mark>，打通AI赋能百业的最后一环，也将直接创造价值。在智能产业化和产业智能化的过程中，AIoT所创造的经济价值将覆盖到整个产业链上下游的所有企业。</p><p>特斯联副总裁谢超用“共赢”来概括这样的局面：“特斯联持续致力于为不同客户提供垂直行业的一站式、智能化解决方案。前端智能硬件配合自主研发的达尔文数据智能分析平台，用技术赋能传统行业。<strong>未来，特斯联将与生态伙伴携手同行、资源共享，将AIoT落地应用到更广阔的场景中，共同迎接产业智能化带来的新增长。</strong>”</p><p>深入理解更多终端场景，解决行业中遇到的切实痛点，特斯联不仅在产业链条上纵向打深，还将横向拓展AIoT商业生态。以AIoT技术赋能传统行业，助力产业智能化升级。本轮融资后，特斯联表示将在产品研发、优质人才引进及场景布局等多个维度上加大投入，成为更有价值的<mark data-id=\"2d28aa9c-942d-471d-bd96-8bfefb7144e0\" data-type=\"technologies\">人工智能</mark><mark data-id=\"b45e1672-f1c3-4e2d-b720-ecf8975434f8\" data-type=\"technologies\">物联网</mark>平台企业。与创新中国同步，用科技成就美好生活。</p></div><div class=\"u-flex article__other js-article-other\"><div class=\"article__other--tags\"><a alt=\"industry\" class=\"u-btn--gray category__link article__other--tag\" href=\"/industry\">产业</a><span class=\"u-btn--gray category__link article__other--tag\">特斯联</span><span class=\"u-btn--gray category__link article__other--tag\">IDG资本</span><span class=\"u-btn--gray category__link article__other--tag\">商汤科技</span></div><div class=\"article-action js-article-action\"><a alt=\"收藏文章\" class=\"u-like-icon article-action__item js-like-action\" data-path=\"/articles/2018-10-25-8\" href=\"javascript:;\"><i class=\"iconfont icon-like-default\"></i><span></span></a><a class=\"u-like-icon article-action__item js-go-comment js-switch-comment\" href=\"javascript:;\"><i class=\"iconfont icon-message-default\"></i><span></span></a><a alt=\"分享\" class=\"article-action__item u-like-icon u-share__box\" href=\"javascript:;\"><i class=\"iconfont icon-share-default\"></i><div class=\"u-share__list t-vertical\"><button alt=\"分享到微信\" class=\"u-btn--circle u-share__item u-share__webtn\" href=\"javascript:;\"><i class=\"iconfont icon-wechat\"></i><div class=\"u-share__wechat js-qrcode\"></div></button><button alt=\"分享到微博\" class=\"u-btn--circle u-share__item js-share-btn\" data-title=\"特斯联科技完成12亿元B1轮融资，光大控股、IDG、商汤投资\" data-type=\"weibo\" href=\"javascript:;\"><i class=\"iconfont icon-weibo\"></i></button><button alt=\"分享到推特\" class=\"u-btn--circle u-share__item js-share-btn\" data-title=\"特斯联科技完成12亿元B1轮融资，光大控股、IDG、商汤投资\" data-type=\"twitter\" href=\"javascript:;\"><i class=\"iconfont icon-twitter\"></i></button></div></a></div></div></div><div class=\"u-col-8\"><div class=\"article__hr\"></div><div class=\"article-graph__container\"><div class=\"article-similar__tip\">相关数据</div><div class=\"article-graph__item\"><div class=\"article-graph__header js-tips-header\"><span class=\"article-graph__keyword\">商汤科技</span><span class=\"article-graph__type\">机构</span><div class=\"article-graph__arrow\"><i class=\"iconfont icon-arrowdown\"></i></div></div><div class=\"article-graph__body\"><div class=\"article-graph__mecha\"><div class=\"graph__logo\" style=\"background-image: url(https://image.jiqizhixin.com/uploads/graph/institution/logo/503867c2-7c48-41dc-92be-96b512955afe/%E5%95%86%E6%B1%A4%E6%96%B0%E5%93%81%E7%89%8Clogo-%E6%A8%AA%E7%89%88.png)\"></div><div class=\"graphs__box\"><p class=\"graph__content\">商汤科技成立于2014年，专注于计算机视觉和深度学习的原创技术，是中国领先的人工智能头部公司，估值超过20亿美金。以“坚持原创，让AI引领人类进步”为使命，商汤科技建立了国内顶级的自主研发的深度学习超算中心，并成为中国一流的人工智能算法供应商。商汤科技不仅在技术实力上领跑行业，商业营收亦领先同行业，在多个垂直领域的市场占有率居首位。目前，商汤科技已与国内外多个行业的400多家领军企业建立合作，包括Qualcomm、英伟达、本田、中国移动、银联、万达、苏宁、海航、中央网信办、华为、小米、OPPO、vivo、微博、科大讯飞等知名企业及政府机构，涵盖安防、金融、智能手机、移动互联网、汽车、智慧零售、机器人等诸多行业，为其提供基于人脸识别、图像识别、视频分析、无人驾驶、医疗影像识别等技术的完整解决方案。2017年7月，商汤科技宣布完成4.1亿美元B轮融资，创下当时全球人工智能领域单轮融资额纪录，成为世界级的人工智能独角兽企业。新一轮融资后，商汤科技加大力度开展包括自动驾驶、医疗影像以及深度学习芯片等领域的研发工作。商汤科技现已在香港、北京、深圳、上海、成都、杭州、日本京都和东京成立分部，汇集世界各地顶尖人才，合力打造一家世界一流的原创人工智能技术公司。中国“智”造，“慧”及全球。</p></div></div><div class=\"graph__about\"><div class=\"graph__title graph__sub\">相关技术</div><div class=\"graph__fields\"><a class=\"graph__field\" href=\"javascript:;\">图像超分辨率重建</a><a class=\"graph__field\" href=\"javascript:;\">计算机视觉</a></div></div></div></div><div class=\"article-graph__item\"><div class=\"article-graph__header js-tips-header\"><span class=\"article-graph__keyword\">人工智能</span><span class=\"article-graph__type\">技术</span><div class=\"article-graph__arrow\"><i class=\"iconfont icon-arrowdown\"></i></div></div><div class=\"article-graph__body\"><div class=\"graphs__box\"><p class=\"graph__content\">在学术研究领域，人工智能通常指能够感知周围环境并采取行动以实现最优的可能结果的智能体（intelligent agent）</p></div><div class=\"graph__title graph__link graph__origins\"><i class=\"iconfont icon-link2 u-mr-6\"></i>来源：<a class=\"graph__origin\" href=\"https://www.ics.uci.edu/~rickl/courses/cs-171/aima-resources/Artificial%20Intelligence%20A%20Modern%20Approach%20(3rd%20Edition).pdf\" target=\"_blank\">Russell, S., &amp; Norvig, P. (2003). Artificial Intelligence: A Modern Approach.</a></div></div></div><div class=\"article-graph__item\"><div class=\"article-graph__header js-tips-header\"><span class=\"article-graph__keyword\">物联网</span><span class=\"article-graph__type\">技术</span><div class=\"article-graph__arrow\"><i class=\"iconfont icon-arrowdown\"></i></div></div><div class=\"article-graph__body\"><div class=\"graphs__box\"><p class=\"graph__content\">物联网（英语：Internet of Things，缩写IoT）是互联网、传统电信网等信息承载体，让所有能行使独立功能的普通物体实现互联互通的网络。物联网一般为无线网，而由于每个人周围的设备可以达到一千至五千个，所以物联网可能要包含500兆至一千兆个物体。在物联网上，每个人都可以应用电子标签将真实的物体上网联结，在物联网上都可以查出它们的具体位置。通过物联网可以用中心计算机对机器、设备、人员进行集中管理、控制，也可以对家庭设备、汽车进行遥控，以及搜索位置、防止物品被盗等，类似自动化操控系统，同时通过收集这些小事的数据，最后可以聚集成大数据，包含重新设计道路以减少车祸、都市更新、灾害预测与犯罪防治、流行病控制等等社会的重大改变，实现物和物相联。</p></div><div class=\"graph__title graph__link graph__origins\"><i class=\"iconfont icon-link2 u-mr-6\"></i>来源：<a class=\"graph__origin\" href=\"https://zh.wikipedia.org/wiki/%E7%89%A9%E8%81%94%E7%BD%91\" target=\"_blank\">维基百科</a></div></div></div></div><div class=\"article__hr\"></div><div class=\"article-similar\"><div class=\"article-similar__tip\">推荐文章</div><div class=\"u-flex\"><article class=\"article-similar__inline\"><a alt=\"场景还是场景，配送服务正变天？AI芯片也要走向终端应用的竞争? | AI Weekly\" class=\"u-image-base article-similar__cover\" href=\"/articles/2018-07-02-2\" rel=\"noopener noreferrer\" target=\"_blank\"><img alt=\"场景还是场景，配送服务正变天？AI芯片也要走向终端应用的竞争? | AI Weekly\" class=\"u-image-center\" src=\"https://image.jiqizhixin.com/uploads/article/cover_image/10d8c7e2-a2e1-4c2d-86ca-9e1f5559f3e1/07021.png?imageView2/1/w/236/h/175\" /></a><a alt=\"场景还是场景，配送服务正变天？AI芯片也要走向终端应用的竞争? | AI Weekly\" class=\"u-text-limit--two article-similar__title\" href=\"/articles/2018-07-02-2\" rel=\"noopener noreferrer\" target=\"_blank\">场景还是场景，配送服务正变天？AI芯片也要走向终端应用的竞争? | AI Weekly</a><footer class=\"article-similar__footer u-flex\"><a alt=\"机器之心\" class=\"u-flex article-similar__user\" href=\"/users/6cf1f913-19c0-41e1-91f9-59ae826137fa\" rel=\"noopener noreferrer\" target=\"_blank\"><span class=\"u-avatar-base article-simple__avatar\"><img alt=\"机器之心\" class=\"u-image-center\" src=\"https://image.jiqizhixin.com/uploads/user/avatar/6cf1f913-19c0-41e1-91f9-59ae826137fa/avatar-3415b8a2-5827-43bf-8ee0-de9a09a11642.png\" /></span><span class=\"u-ml-6\">机器之心</span></a><a alt=\"点赞\" class=\"u-like-icon js-like-action\" data-path=\"/articles/2018-07-02-2\" href=\"javascript:;\"><i class=\"iconfont icon-like-default\"></i><span>1</span></a></footer></article><article class=\"article-similar__inline\"><a alt=\"招商局创投领投，氪信科技完成 B 轮融资\" class=\"u-image-base article-similar__cover\" href=\"/articles/2017-04-18\" rel=\"noopener noreferrer\" target=\"_blank\"><img alt=\"招商局创投领投，氪信科技完成 B 轮融资\" class=\"u-image-center\" src=\"https://image.jiqizhixin.com/uploads/article/cover_image/48e3f678-b93e-4155-a959-a53fd4553dea/58f5898d50280.jpeg?imageView2/1/w/236/h/175\" /></a><a alt=\"招商局创投领投，氪信科技完成 B 轮融资\" class=\"u-text-limit--two article-similar__title\" href=\"/articles/2017-04-18\" rel=\"noopener noreferrer\" target=\"_blank\">招商局创投领投，氪信科技完成 B 轮融资</a><footer class=\"article-similar__footer u-flex\"><a alt=\"机器之心\" class=\"u-flex article-similar__user\" href=\"/users/7f316f0c-8f72-4231-bb30-0eb1dd5a5660\" rel=\"noopener noreferrer\" target=\"_blank\"><span class=\"u-avatar-base article-simple__avatar\"><img alt=\"机器之心\" class=\"u-image-center\" src=\"https://image.jiqizhixin.com/uploads/user/avatar/7f316f0c-8f72-4231-bb30-0eb1dd5a5660/58d0f028b9fe3.png\" /></span><span class=\"u-ml-6\">机器之心</span></a><a alt=\"点赞\" class=\"u-like-icon js-like-action\" data-path=\"/articles/2017-04-18\" href=\"javascript:;\"><i class=\"iconfont icon-like-default\"></i><span>1</span></a></footer></article><article class=\"article-similar__inline\"><a alt=\"海云数据 AI 战略发布会宣布完成 1 亿元 B 轮融资，推出能力服务全新商业模式\" class=\"u-image-base article-similar__cover\" href=\"/articles/2017-08-15-3\" rel=\"noopener noreferrer\" target=\"_blank\"><img alt=\"海云数据 AI 战略发布会宣布完成 1 亿元 B 轮融资，推出能力服务全新商业模式\" class=\"u-image-center\" src=\"https://image.jiqizhixin.com/uploads/article/cover_image/4e2ae82a-793d-4774-b29c-12a0902e7ddb/%E5%9B%BE%E7%89%871.png?imageView2/1/w/236/h/175\" /></a><a alt=\"海云数据 AI 战略发布会宣布完成 1 亿元 B 轮融资，推出能力服务全新商业模式\" class=\"u-text-limit--two article-similar__title\" href=\"/articles/2017-08-15-3\" rel=\"noopener noreferrer\" target=\"_blank\">海云数据 AI 战略发布会宣布完成 1 亿元 B 轮融资，推出能力服务全新商业模式</a><footer class=\"article-similar__footer u-flex\"><a alt=\"高静宜\" class=\"u-flex article-similar__user\" href=\"/users/5357e4f5-012a-4748-8117-4e035d5fdb43\" rel=\"noopener noreferrer\" target=\"_blank\"><span class=\"u-avatar-base article-simple__avatar\"><img alt=\"高静宜\" class=\"u-image-center\" src=\"https://image.jiqizhixin.com/uploads/user/avatar/5357e4f5-012a-4748-8117-4e035d5fdb43/avatar-43d2079f-6db9-4fa8-bd79-2e3fb95322cc.png\" /></span><span class=\"u-ml-6\">高静宜</span></a><a alt=\"点赞\" class=\"u-like-icon js-like-action\" data-path=\"/articles/2017-08-15-3\" href=\"javascript:;\"><i class=\"iconfont icon-like-default\"></i><span></span></a></footer></article></div></div></div></div></div><div class=\"article__comment\"><div class=\"u-container\"><div class=\"u-col-8\" id=\"comment-container\"><div data-react-class=\"shared/Comment\" data-react-props=\"{&quot;currentUser&quot;:null,&quot;url&quot;:&quot;/articles/2018-10-25-8&quot;}\"></div></div></div></div><div data-user=\"null\" id=\"js-login-functionality\"></div><div class=\"u-relative\"><div class=\"u-fix-right--list\" id=\"js-fix-right-list\"><div class=\"u-fix-right--btn backtop\" id=\"js-backtop\"><a class=\"backtop__link\" href=\"javascript:;\"><i class=\"iconfont icon-xiangshangjiantou backtop__icon\"></i></a><a class=\"backtop__link is-second\">返回顶部</a></div></div></div><footer class=\"footer u-flex\" id=\"footer\"><div class=\"u-flex footer__wrapper\"><div class=\"footer__left\"><div class=\"footer__logo\"><img height=\"50\" src=\"https://cdn.jiqizhixin.com/assets/logo-c617614d41c836153141ce68ff2b8be19e15cd9c16b2ef1936bc4ad734397392.png\" /></div><div class=\"footer-link\"><a class=\"footer-link__item\" href=\"/about\" target=\"_blank\">关于我们</a><a class=\"footer-link__item\" href=\"/report\" target=\"_blank\">寻求报道</a><a class=\"footer-link__item\" href=\"/business\" target=\"_blank\">商务合作</a><a class=\"footer-link__item\" href=\"/join\" target=\"_blank\">加入我们</a><a class=\"footer-link__item\" href=\"/terms\" target=\"_blank\">服务条款</a></div><p class=\"footer__other\">©2019 机器之心（北京）科技有限公司</p><p class=\"footer__other\">京 ICP 备 12027496</p></div><div class=\"footer__middle\"><div class=\"footer__title\"><i class=\"iconfont icon-arrowright\"></i> 加入合作计划</div><a alt=\"提交应用案例\" class=\"footer__usage\" href=\"http://jiqizhixin.mikecrm.com/rZtdjEg\" target=\"_blank\">提交应用案例 | 寻求技术提供方 | 垂直领域合作</a><div class=\"footer__title t-second\">全球人工智能信息服务</div><div class=\"footer__middle--items\"><span class=\"footer__middle--friends\">友情链接:</span><a alt=\"Synced Global\" class=\"footer__middle--item\" href=\"https://syncedreview.com/\" target=\"_blank\">Synced Global</a><a alt=\"机器之心 Medium 博客\" class=\"footer__middle--item\" href=\"https://medium.com/@Synced\" target=\"_blank\">机器之心 Medium 博客</a><a alt=\"PaperWeekly\" class=\"footer__middle--item\" href=\"http://paperweek.ly/\" target=\"_blank\">PaperWeekly</a><a alt=\"网易智能\" class=\"footer__middle--item\" href=\"http://tech.163.com/smart\" target=\"_blank\">网易智能</a><a alt=\"动脉网\" class=\"footer__middle--item\" href=\"http://www.vcbeat.net/\" target=\"_blank\">动脉网</a><a alt=\"硬蛋网\" class=\"footer__middle--item\" href=\"http://www.ingdan.com\" target=\"_blank\">硬蛋网</a><a alt=\"达观数据\" class=\"footer__middle--item\" href=\"http://www.datagrand.com\" target=\"_blank\">达观数据</a><a alt=\"品途商业评论\" class=\"footer__middle--item\" href=\"https://www.pintu360.com\" target=\"_blank\">品途商业评论</a><a alt=\"艾耕科技\" class=\"footer__middle--item\" href=\"https://www.eigentech.ai\" target=\"_blank\">艾耕科技</a></div></div></div><div class=\"footer__right\"><div class=\"footer__social\"><div class=\"footer__tooltip\"><a class=\"footer__social--icon iconfont icon-wechat\" href=\"javascript:;\"></a><div class=\"footer__tooltip-box\"><img alt=\"机器之心微信公众平台\" src=\"https://cdn.jiqizhixin.com/assets/application/weixinQR-2e2eb9e01d350c1ce6bd7cfe4cf8aa2209a1d72b50f1a6147a371e85548fcdf4.jpg\" /></div></div><a class=\"footer__social--icon iconfont icon-weibo\" href=\"http://weibo.com/synced\" rel=\"noopener noreferrer\" target=\"_blank\"></a><a class=\"footer__social--icon iconfont icon-rss\" href=\"https://jiqizhixin.com/rss\" rel=\"noopener noreferrer\" target=\"_blank\"></a></div><p class=\"footer__right--line\">联系电话：+86 010-57150141</p><p class=\"footer__right--line\">联系邮箱：contact@jiqizhixin.com</p></div></footer><div data-react-class=\"utils/Modal\" data-react-props=\"{}\"></div><div data-react-class=\"utils/Alert\" data-react-props=\"{}\"></div><div class=\"notice__container\" id=\"js-notice-container\"></div><script src=\"https://cdnjs.cloudflare.com/ajax/libs/plupload/2.1.6/plupload.full.min.js\"></script><script data=\"208\" defSI=\"361\" id=\"ParadigmSDK\" src=\"https://recsys-free.4paradigm.com/sdk/js/ParadigmSDK_v2_define_itemid.js\"></script><script>ParadigmSDK.init(\"0c2abb5a135747ca9d0f5103e5e95cc3\");\n",
      "ParadigmSDK.trackDetailPageShow(\"63353b25-938e-4525-8674-5e6171430bd1\")</script><script>(function(i,s,o,g,r,a,m){i['GoogleAnalyticsObject']=r;i[r]=i[r]||function(){\n",
      "(i[r].q=i[r].q||[]).push(arguments)},i[r].l=1*new Date();a=s.createElement(o),\n",
      "m=s.getElementsByTagName(o)[0];a.async=1;a.src=g;m.parentNode.insertBefore(a,m)\n",
      "})(window,document,'script','https://www.google-analytics.com/analytics.js','ga');\n",
      "\n",
      "ga('create', 'UA-96130205-2', 'auto');\n",
      "ga('send', 'pageview');</script><script src=\"https://cdn.jiqizhixin.com/assets/packs/application-2236e23148e886d746d3.js\"></script></body></html>\n"
     ]
    }
   ],
   "source": [
    "html_file=geturl('https://www.jiqizhixin.com/articles/2018-10-25-8')\n",
    "print(html_file)"
   ]
  },
  {
   "cell_type": "code",
   "execution_count": 3,
   "metadata": {
    "collapsed": true
   },
   "outputs": [],
   "source": [
    "soup=BeautifulSoup(html_file,'lxml')\n",
    "\n",
    "def getTitle(content):\n",
    "    try:\n",
    "        title=content.body.h1\n",
    "    except AttributeError as e:\n",
    "        return None\n",
    "    return title"
   ]
  },
  {
   "cell_type": "code",
   "execution_count": 4,
   "metadata": {},
   "outputs": [
    {
     "data": {
      "text/plain": [
       "'特斯联科技完成12亿元B1轮融资，光大控股、IDG、商汤投资'"
      ]
     },
     "execution_count": 4,
     "metadata": {},
     "output_type": "execute_result"
    }
   ],
   "source": [
    "getTitle(soup).text # get title"
   ]
  },
  {
   "cell_type": "code",
   "execution_count": 5,
   "metadata": {},
   "outputs": [
    {
     "name": "stdout",
     "output_type": "stream",
     "text": [
      "[<a alt=\"场景还是场景，配送服务正变天？AI芯片也要走向终端应用的竞争? | AI Weekly\" class=\"u-text-limit--two article-similar__title\" href=\"/articles/2018-07-02-2\" rel=\"noopener noreferrer\" target=\"_blank\">场景还是场景，配送服务正变天？AI芯片也要走向终端应用的竞争? | AI Weekly</a>, <a alt=\"招商局创投领投，氪信科技完成 B 轮融资\" class=\"u-text-limit--two article-similar__title\" href=\"/articles/2017-04-18\" rel=\"noopener noreferrer\" target=\"_blank\">招商局创投领投，氪信科技完成 B 轮融资</a>, <a alt=\"海云数据 AI 战略发布会宣布完成 1 亿元 B 轮融资，推出能力服务全新商业模式\" class=\"u-text-limit--two article-similar__title\" href=\"/articles/2017-08-15-3\" rel=\"noopener noreferrer\" target=\"_blank\">海云数据 AI 战略发布会宣布完成 1 亿元 B 轮融资，推出能力服务全新商业模式</a>]\n"
     ]
    }
   ],
   "source": [
    "exclude=soup.find_all('',{'class':'u-text-limit--two article-similar__title'})\n",
    "print(exclude)"
   ]
  },
  {
   "cell_type": "code",
   "execution_count": 6,
   "metadata": {
    "collapsed": true
   },
   "outputs": [],
   "source": [
    "text_extra=[]\n",
    "for i in range(3):\n",
    "    text_extra.append(''.join(exclude[i].text))\n",
    "text_extra = ''.join(text_extra)\n"
   ]
  },
  {
   "cell_type": "code",
   "execution_count": 7,
   "metadata": {},
   "outputs": [
    {
     "name": "stdout",
     "output_type": "stream",
     "text": [
      "场景还是场景，配送服务正变天？AI芯片也要走向终端应用的竞争? | AI Weekly招商局创投领投，氪信科技完成 B 轮融资海云数据 AI 战略发布会宣布完成 1 亿元 B 轮融资，推出能力服务全新商业模式\n"
     ]
    }
   ],
   "source": [
    "print(text_extra)"
   ]
  },
  {
   "cell_type": "code",
   "execution_count": 8,
   "metadata": {},
   "outputs": [
    {
     "name": "stdout",
     "output_type": "stream",
     "text": [
      "特斯联科技完成12亿元B1轮融资，光大控股、IDG、商汤投资 | 机器之心\n",
      "\n",
      "\n",
      "\n",
      "\n",
      "\n",
      "\n",
      "\n",
      "\n",
      "\n",
      "\n",
      "\n",
      "产业登录探索知识产业专栏AI商用搜索四月原创2018/10/25 14:26特斯联科技完成12亿元B1轮融资，光大控股、IDG、商汤投资本轮融资由光大控股、IDG资本领投，商汤科技跟投。10月25日机器之心消息，人工智能物联网赛道独角兽企业特斯联科技宣布完成B-1轮12亿元人民币融资。这是特斯联继去年7月获A轮5亿人民币融资后，再次刷新该领域单轮融资纪录。本轮融资由光大控股、IDG资本领投，商汤科技跟投。光源资本担任本轮独家财务顾问。据悉，商汤科技此次参投也将为特斯联的精细化运营及产品开发提供原创底层技术支持。特斯联是光大控股孵化的高科技创新企业，承担着光大集团在新经济赛道上的重要使命，是目前物联网领域快速成长的创业公司代表。2017年7月，特斯联完成超过5亿元A轮融资，由中国光大旗下基金与IDG资本，中信系产业资本以及其它战略投资人共同完成。特斯联以人工智能+物联网应用技术为核心，建设城市级智能物联网平台，为政府、企业提供城市管理、建筑能源管理、公共安全管理等多场景整体解决方案。其核心方案在于“城市级智能物联网平台”，主要面向商用、市政等公共领域。据公开资料显示，特斯联科技已在全国落地8400多个项目，特斯联在2017年的订单额超过十亿元。△特斯联科技宣布B-1轮融资12亿人民币（图中左起：IDG资本合伙人 牛奎光；商汤科技战略投资部董事总经理 王康曼；光大控股董事总经理、新经济投资负责人 艾渝；光源资本创始人、CEO 郑烜乐；特斯联科技副总裁 谢超）光大控股执行董事兼首席执行官陈爽表示：“光大控股在投资上，始终坚持传统经济和新经济相结合。特斯联是光大控股旗下最大的人工智能物联网平台，用新技术赋能，助力产业智能升级，所做是国之所需。在特斯联构建起的生态系统中，聚集头部技术，携手传统行业，让最前沿技术落地应用，共同创造价值。光大控股的另一个资产管理理念是深入企业发展，从战略制定、风险管控上赋予被投企业一系列发展动力。在特斯联的成长过程中，光大控股一直给予巨大帮助。我们已经欣喜地看到，特斯联成为了该领域内的独角兽，解决方案触达了诸多场景，未来还将进入养老、学校、医院等等。这是我们设定的目标，我们充满希望。”在新技术与传统行业的交点上落子布局，这是新经济形态下的因势而谋、应势而动。光大控股董事总经理、新经济投资负责人艾渝说：“特斯联正搭建起万物智联的‘桥梁’，与传统行业深度结合、以AIoT技术赋能，不断夯实并持续扩大行业领先优势。”与光大控股一同见证特斯联成长的IDG资本，也对其发展给予肯定。IDG资本创始董事长熊晓鸽，用看重特斯联在产业智能化趋势下，具备先发优势和深刻理解为连续投资做注脚。他说：“产业智能化是必然趋势，是无法忽视的大赛道。同时，IDG资本也高度认同特斯联这支年轻、卓越、有冲劲的团队。他们对前沿技术反应灵敏，对人工智能物联网赋能应用有前瞻性，并非常注重落地执行。IDG资本不仅希望在资本层面能提供强有力支持，更希望成为特斯联最重要的合作伙伴。”同样作为重要战略伙伴，以人工智能技术创新为驱动的商汤科技此次选择投资，旨在与特斯联并肩拓展人工智能及物联网的落地应用，还将提供原创底层技术支持并深化双方合作，共创行业未来。商汤科技联合创始人、战略投融资负责人徐冰认为：“作为AI原创技术的先行者，商汤科技在场景落地的过程中，需要与极具产品层优势的伙伴强强联手，打穿算法层与传统行业间的断层。特斯联融通终端场景和行业切实需求，同时有能力结合具体场景创新优化算法、解决实际问题。商汤希望能与这样处于行业头部的公司携手，在长周期内创造更大价值。”人工智能结合物联网，打通AI赋能百业的最后一环，也将直接创造价值。在智能产业化和产业智能化的过程中，AIoT所创造的经济价值将覆盖到整个产业链上下游的所有企业。特斯联副总裁谢超用“共赢”来概括这样的局面：“特斯联持续致力于为不同客户提供垂直行业的一站式、智能化解决方案。前端智能硬件配合自主研发的达尔文数据智能分析平台，用技术赋能传统行业。未来，特斯联将与生态伙伴携手同行、资源共享，将AIoT落地应用到更广阔的场景中，共同迎接产业智能化带来的新增长。”深入理解更多终端场景，解决行业中遇到的切实痛点，特斯联不仅在产业链条上纵向打深，还将横向拓展AIoT商业生态。以AIoT技术赋能传统行业，助力产业智能化升级。本轮融资后，特斯联表示将在产品研发、优质人才引进及场景布局等多个维度上加大投入，成为更有价值的人工智能物联网平台企业。与创新中国同步，用科技成就美好生活。产业特斯联IDG资本商汤科技相关数据商汤科技机构商汤科技成立于2014年，专注于计算机视觉和深度学习的原创技术，是中国领先的人工智能头部公司，估值超过20亿美金。以“坚持原创，让AI引领人类进步”为使命，商汤科技建立了国内顶级的自主研发的深度学习超算中心，并成为中国一流的人工智能算法供应商。商汤科技不仅在技术实力上领跑行业，商业营收亦领先同行业，在多个垂直领域的市场占有率居首位。目前，商汤科技已与国内外多个行业的400多家领军企业建立合作，包括Qualcomm、英伟达、本田、中国移动、银联、万达、苏宁、海航、中央网信办、华为、小米、OPPO、vivo、微博、科大讯飞等知名企业及政府机构，涵盖安防、金融、智能手机、移动互联网、汽车、智慧零售、机器人等诸多行业，为其提供基于人脸识别、图像识别、视频分析、无人驾驶、医疗影像识别等技术的完整解决方案。2017年7月，商汤科技宣布完成4.1亿美元B轮融资，创下当时全球人工智能领域单轮融资额纪录，成为世界级的人工智能独角兽企业。新一轮融资后，商汤科技加大力度开展包括自动驾驶、医疗影像以及深度学习芯片等领域的研发工作。商汤科技现已在香港、北京、深圳、上海、成都、杭州、日本京都和东京成立分部，汇集世界各地顶尖人才，合力打造一家世界一流的原创人工智能技术公司。中国“智”造，“慧”及全球。相关技术图像超分辨率重建计算机视觉人工智能技术在学术研究领域，人工智能通常指能够感知周围环境并采取行动以实现最优的可能结果的智能体（intelligent agent）来源：Russell, S., & Norvig, P. (2003). Artificial Intelligence: A Modern Approach.物联网技术物联网（英语：Internet of Things，缩写IoT）是互联网、传统电信网等信息承载体，让所有能行使独立功能的普通物体实现互联互通的网络。物联网一般为无线网，而由于每个人周围的设备可以达到一千至五千个，所以物联网可能要包含500兆至一千兆个物体。在物联网上，每个人都可以应用电子标签将真实的物体上网联结，在物联网上都可以查出它们的具体位置。通过物联网可以用中心计算机对机器、设备、人员进行集中管理、控制，也可以对家庭设备、汽车进行遥控，以及搜索位置、防止物品被盗等，类似自动化操控系统，同时通过收集这些小事的数据，最后可以聚集成大数据，包含重新设计道路以减少车祸、都市更新、灾害预测与犯罪防治、流行病控制等等社会的重大改变，实现物和物相联。来源：维基百科推荐文章场景还是场景，配送服务正变天？AI芯片也要走向终端应用的竞争? | AI Weekly机器之心1招商局创投领投，氪信科技完成 B 轮融资机器之心1海云数据 AI 战略发布会宣布完成 1 亿元 B 轮融资，推出能力服务全新商业模式高静宜返回顶部关于我们寻求报道商务合作加入我们服务条款©2019 机器之心（北京）科技有限公司京 ICP 备 12027496 加入合作计划提交应用案例 | 寻求技术提供方 | 垂直领域合作全球人工智能信息服务友情链接:Synced Global机器之心 Medium 博客PaperWeekly网易智能动脉网硬蛋网达观数据品途商业评论艾耕科技联系电话：+86 010-57150141联系邮箱：contact@jiqizhixin.comParadigmSDK.init(\"0c2abb5a135747ca9d0f5103e5e95cc3\");\n",
      "ParadigmSDK.trackDetailPageShow(\"63353b25-938e-4525-8674-5e6171430bd1\")(function(i,s,o,g,r,a,m){i['GoogleAnalyticsObject']=r;i[r]=i[r]||function(){\n",
      "(i[r].q=i[r].q||[]).push(arguments)},i[r].l=1*new Date();a=s.createElement(o),\n",
      "m=s.getElementsByTagName(o)[0];a.async=1;a.src=g;m.parentNode.insertBefore(a,m)\n",
      "})(window,document,'script','https://www.google-analytics.com/analytics.js','ga');\n",
      "\n",
      "ga('create', 'UA-96130205-2', 'auto');\n",
      "ga('send', 'pageview');\n"
     ]
    }
   ],
   "source": [
    "raw=soup.get_text()\n",
    "print(raw)"
   ]
  },
  {
   "cell_type": "code",
   "execution_count": 9,
   "metadata": {},
   "outputs": [
    {
     "name": "stdout",
     "output_type": "stream",
     "text": [
      "特斯联科技完成亿元轮融资，光大控股、、商汤投资机器之心产业登录探索知识产业专栏商用搜索四月原创:特斯联科技完成亿元轮融资，光大控股、、商汤投资本轮融资由光大控股、资本领投，商汤科技跟投。月日机器之心消息，人工智能物联网赛道独角兽企业特斯联科技宣布完成轮亿元人民币融资。这是特斯联继去年月获轮亿人民币融资后，再次刷新该领域单轮融资纪录。本轮融资由光大控股、资本领投，商汤科技跟投。光源资本担任本轮独家财务顾问。据悉，商汤科技此次参投也将为特斯联的精细化运营及产品开发提供原创底层技术支持。特斯联是光大控股孵化的高科技创新企业，承担着光大集团在新经济赛道上的重要使命，是目前物联网领域快速成长的创业公司代表。年月，特斯联完成超过亿元轮融资，由中国光大旗下基金与资本，中信系产业资本以及其它战略投资人共同完成。特斯联以人工智能物联网应用技术为核心，建设城市级智能物联网平台，为政府、企业提供城市管理、建筑能源管理、公共安全管理等多场景整体解决方案。其核心方案在于“城市级智能物联网平台”，主要面向商用、市政等公共领域。据公开资料显示，特斯联科技已在全国落地多个项目，特斯联在年的订单额超过十亿元。特斯联科技宣布轮融资亿人民币（图中左起资本合伙人牛奎光；商汤科技战略投资部董事总经理王康曼；光大控股董事总经理、新经济投资负责人艾渝；光源资本创始人、郑烜乐；特斯联科技副总裁谢超）光大控股执行董事兼首席执行官陈爽表示“光大控股在投资上，始终坚持传统经济和新经济相结合。特斯联是光大控股旗下最大的人工智能物联网平台，用新技术赋能，助力产业智能升级，所做是国之所需。在特斯联构建起的生态系统中，聚集头部技术，携手传统行业，让最前沿技术落地应用，共同创造价值。光大控股的另一个资产管理理念是深入企业发展，从战略制定、风险管控上赋予被投企业一系列发展动力。在特斯联的成长过程中，光大控股一直给予巨大帮助。我们已经欣喜地看到，特斯联成为了该领域内的独角兽，解决方案触达了诸多场景，未来还将进入养老、学校、医院等等。这是我们设定的目标，我们充满希望。”在新技术与传统行业的交点上落子布局，这是新经济形态下的因势而谋、应势而动。光大控股董事总经理、新经济投资负责人艾渝说“特斯联正搭建起万物智联的‘桥梁’，与传统行业深度结合、以技术赋能，不断夯实并持续扩大行业领先优势。”与光大控股一同见证特斯联成长的资本，也对其发展给予肯定。资本创始董事长熊晓鸽，用看重特斯联在产业智能化趋势下，具备先发优势和深刻理解为连续投资做注脚。他说“产业智能化是必然趋势，是无法忽视的大赛道。同时，资本也高度认同特斯联这支年轻、卓越、有冲劲的团队。他们对前沿技术反应灵敏，对人工智能物联网赋能应用有前瞻性，并非常注重落地执行。资本不仅希望在资本层面能提供强有力支持，更希望成为特斯联最重要的合作伙伴。”同样作为重要战略伙伴，以人工智能技术创新为驱动的商汤科技此次选择投资，旨在与特斯联并肩拓展人工智能及物联网的落地应用，还将提供原创底层技术支持并深化双方合作，共创行业未来。商汤科技联合创始人、战略投融资负责人徐冰认为“作为原创技术的先行者，商汤科技在场景落地的过程中，需要与极具产品层优势的伙伴强强联手，打穿算法层与传统行业间的断层。特斯联融通终端场景和行业切实需求，同时有能力结合具体场景创新优化算法、解决实际问题。商汤希望能与这样处于行业头部的公司携手，在长周期内创造更大价值。”人工智能结合物联网，打通赋能百业的最后一环，也将直接创造价值。在智能产业化和产业智能化的过程中，所创造的经济价值将覆盖到整个产业链上下游的所有企业。特斯联副总裁谢超用“共赢”来概括这样的局面“特斯联持续致力于为不同客户提供垂直行业的一站式、智能化解决方案。前端智能硬件配合自主研发的达尔文数据智能分析平台，用技术赋能传统行业。未来，特斯联将与生态伙伴携手同行、资源共享，将落地应用到更广阔的场景中，共同迎接产业智能化带来的新增长。”深入理解更多终端场景，解决行业中遇到的切实痛点，特斯联不仅在产业链条上纵向打深，还将横向拓展商业生态。以技术赋能传统行业，助力产业智能化升级。本轮融资后，特斯联表示将在产品研发、优质人才引进及场景布局等多个维度上加大投入，成为更有价值的人工智能物联网平台企业。与创新中国同步，用科技成就美好生活。产业特斯联资本商汤科技相关数据商汤科技机构商汤科技成立于年，专注于计算机视觉和深度学习的原创技术，是中国领先的人工智能头部公司，估值超过亿美金。以“坚持原创，让引领人类进步”为使命，商汤科技建立了国内顶级的自主研发的深度学习超算中心，并成为中国一流的人工智能算法供应商。商汤科技不仅在技术实力上领跑行业，商业营收亦领先同行业，在多个垂直领域的市场占有率居首位。目前，商汤科技已与国内外多个行业的多家领军企业建立合作，包括、英伟达、本田、中国移动、银联、万达、苏宁、海航、中央网信办、华为、小米、、、微博、科大讯飞等知名企业及政府机构，涵盖安防、金融、智能手机、移动互联网、汽车、智慧零售、机器人等诸多行业，为其提供基于人脸识别、图像识别、视频分析、无人驾驶、医疗影像识别等技术的完整解决方案。年月，商汤科技宣布完成亿美元轮融资，创下当时全球人工智能领域单轮融资额纪录，成为世界级的人工智能独角兽企业。新一轮融资后，商汤科技加大力度开展包括自动驾驶、医疗影像以及深度学习芯片等领域的研发工作。商汤科技现已在香港、北京、深圳、上海、成都、杭州、日本京都和东京成立分部，汇集世界各地顶尖人才，合力打造一家世界一流的原创人工智能技术公司。中国“智”造，“慧”及全球。相关技术图像超分辨率重建计算机视觉人工智能技术在学术研究领域，人工智能通常指能够感知周围环境并采取行动以实现最优的可能结果的智能体（）来源&:物联网技术物联网（英语，缩写）是互联网、传统电信网等信息承载体，让所有能行使独立功能的普通物体实现互联互通的网络。物联网一般为无线网，而由于每个人周围的设备可以达到一千至五千个，所以物联网可能要包含兆至一千兆个物体。在物联网上，每个人都可以应用电子标签将真实的物体上网联结，在物联网上都可以查出它们的具体位置。通过物联网可以用中心计算机对机器、设备、人员进行集中管理、控制，也可以对家庭设备、汽车进行遥控，以及搜索位置、防止物品被盗等，类似自动化操控系统，同时通过收集这些小事的数据，最后可以聚集成大数据，包含重新设计道路以减少车祸、都市更新、灾害预测与犯罪防治、流行病控制等等社会的重大改变，实现物和物相联。来源维基百科推荐文章场景还是场景，配送服务正变天？芯片也要走向终端应用的竞争?机器之心招商局创投领投，氪信科技完成轮融资机器之心海云数据战略发布会宣布完成亿元轮融资，推出能力服务全新商业模式高静宜返回顶部关于我们寻求报道商务合作加入我们服务条款©机器之心（北京）科技有限公司京备加入合作计划提交应用案例寻求技术提供方垂直领域合作全球人工智能信息服务友情链接:机器之心博客网易智能动脉网硬蛋网达观数据品途商业评论艾耕科技联系电话联系邮箱:\n"
     ]
    }
   ],
   "source": [
    "import re\n",
    "r1 = r'[\\s0-9a-zA-Z()△@：.=;+-]+'\n",
    "r2 = '[\\\"\\,\\{\\\\*\\[\\]\\|\\}\\'\\/]+'\n",
    "content1 = re.sub(r1,'',raw)\n",
    "content2 = re.sub(r2,'',content1)\n",
    "content = re.sub(text_extra,'',content2)\n",
    "print(content)"
   ]
  },
  {
   "cell_type": "code",
   "execution_count": null,
   "metadata": {
    "collapsed": true
   },
   "outputs": [],
   "source": []
  },
  {
   "cell_type": "code",
   "execution_count": null,
   "metadata": {
    "collapsed": true
   },
   "outputs": [],
   "source": []
  },
  {
   "cell_type": "code",
   "execution_count": null,
   "metadata": {
    "collapsed": true
   },
   "outputs": [],
   "source": []
  },
  {
   "cell_type": "code",
   "execution_count": 10,
   "metadata": {
    "collapsed": true
   },
   "outputs": [],
   "source": [
    "import re\n",
    "\n",
    "r1 = u'[a-zA-Z0-9’!\"#$%&\\'()*+,-./:;<=>?@，。?★、…【】《》？“”‘’！[\\\\]^_`{|}~\\s（）：△ ©]+'\n",
    "r2 = \"[\\.\\!\\/_,$%^*(+\\\"\\']+|[+——！，。？、~@#￥%……&*（）]+\"\n",
    "r3 =  \"[.!//_,$&%^*()<>+\\\"'?@#-|:~{}]+|[——！\\\\\\\\，。=？、：“”‘’《》【】￥……（）△:]+\" \n",
    "r4 =  \"\\\\【.*?】+|\\\\《.*?》+|\\\\#.*?#+|[.!/_,$&%^*()<>+\"\"'?@|:~{}#]+|[——！\\\\\\，。=？、：“”‘’￥……（）《》【】]\"\n",
    "\n",
    "\n",
    "text1 = re.sub(r1,'',raw)\n",
    "text2 = re.sub(r1,'',text1)\n",
    "text3 = re.sub(r1,'',text2)\n",
    "text4 = re.sub(r1,'',text3)\n"
   ]
  },
  {
   "cell_type": "code",
   "execution_count": 11,
   "metadata": {},
   "outputs": [
    {
     "name": "stdout",
     "output_type": "stream",
     "text": [
      "特斯联科技完成亿元轮融资光大控股商汤投资机器之心产业登录探索知识产业专栏商用搜索四月原创特斯联科技完成亿元轮融资光大控股商汤投资本轮融资由光大控股资本领投商汤科技跟投月日机器之心消息人工智能物联网赛道独角兽企业特斯联科技宣布完成轮亿元人民币融资这是特斯联继去年月获轮亿人民币融资后再次刷新该领域单轮融资纪录本轮融资由光大控股资本领投商汤科技跟投光源资本担任本轮独家财务顾问据悉商汤科技此次参投也将为特斯联的精细化运营及产品开发提供原创底层技术支持特斯联是光大控股孵化的高科技创新企业承担着光大集团在新经济赛道上的重要使命是目前物联网领域快速成长的创业公司代表年月特斯联完成超过亿元轮融资由中国光大旗下基金与资本中信系产业资本以及其它战略投资人共同完成特斯联以人工智能物联网应用技术为核心建设城市级智能物联网平台为政府企业提供城市管理建筑能源管理公共安全管理等多场景整体解决方案其核心方案在于城市级智能物联网平台主要面向商用市政等公共领域据公开资料显示特斯联科技已在全国落地多个项目特斯联在年的订单额超过十亿元特斯联科技宣布轮融资亿人民币图中左起资本合伙人牛奎光；商汤科技战略投资部董事总经理王康曼；光大控股董事总经理新经济投资负责人艾渝；光源资本创始人郑烜乐；特斯联科技副总裁谢超光大控股执行董事兼首席执行官陈爽表示光大控股在投资上始终坚持传统经济和新经济相结合特斯联是光大控股旗下最大的人工智能物联网平台用新技术赋能助力产业智能升级所做是国之所需在特斯联构建起的生态系统中聚集头部技术携手传统行业让最前沿技术落地应用共同创造价值光大控股的另一个资产管理理念是深入企业发展从战略制定风险管控上赋予被投企业一系列发展动力在特斯联的成长过程中光大控股一直给予巨大帮助我们已经欣喜地看到特斯联成为了该领域内的独角兽解决方案触达了诸多场景未来还将进入养老学校医院等等这是我们设定的目标我们充满希望在新技术与传统行业的交点上落子布局这是新经济形态下的因势而谋应势而动光大控股董事总经理新经济投资负责人艾渝说特斯联正搭建起万物智联的桥梁与传统行业深度结合以技术赋能不断夯实并持续扩大行业领先优势与光大控股一同见证特斯联成长的资本也对其发展给予肯定资本创始董事长熊晓鸽用看重特斯联在产业智能化趋势下具备先发优势和深刻理解为连续投资做注脚他说产业智能化是必然趋势是无法忽视的大赛道同时资本也高度认同特斯联这支年轻卓越有冲劲的团队他们对前沿技术反应灵敏对人工智能物联网赋能应用有前瞻性并非常注重落地执行资本不仅希望在资本层面能提供强有力支持更希望成为特斯联最重要的合作伙伴同样作为重要战略伙伴以人工智能技术创新为驱动的商汤科技此次选择投资旨在与特斯联并肩拓展人工智能及物联网的落地应用还将提供原创底层技术支持并深化双方合作共创行业未来商汤科技联合创始人战略投融资负责人徐冰认为作为原创技术的先行者商汤科技在场景落地的过程中需要与极具产品层优势的伙伴强强联手打穿算法层与传统行业间的断层特斯联融通终端场景和行业切实需求同时有能力结合具体场景创新优化算法解决实际问题商汤希望能与这样处于行业头部的公司携手在长周期内创造更大价值人工智能结合物联网打通赋能百业的最后一环也将直接创造价值在智能产业化和产业智能化的过程中所创造的经济价值将覆盖到整个产业链上下游的所有企业特斯联副总裁谢超用共赢来概括这样的局面特斯联持续致力于为不同客户提供垂直行业的一站式智能化解决方案前端智能硬件配合自主研发的达尔文数据智能分析平台用技术赋能传统行业未来特斯联将与生态伙伴携手同行资源共享将落地应用到更广阔的场景中共同迎接产业智能化带来的新增长深入理解更多终端场景解决行业中遇到的切实痛点特斯联不仅在产业链条上纵向打深还将横向拓展商业生态以技术赋能传统行业助力产业智能化升级本轮融资后特斯联表示将在产品研发优质人才引进及场景布局等多个维度上加大投入成为更有价值的人工智能物联网平台企业与创新中国同步用科技成就美好生活产业特斯联资本商汤科技相关数据商汤科技机构商汤科技成立于年专注于计算机视觉和深度学习的原创技术是中国领先的人工智能头部公司估值超过亿美金以坚持原创让引领人类进步为使命商汤科技建立了国内顶级的自主研发的深度学习超算中心并成为中国一流的人工智能算法供应商商汤科技不仅在技术实力上领跑行业商业营收亦领先同行业在多个垂直领域的市场占有率居首位目前商汤科技已与国内外多个行业的多家领军企业建立合作包括英伟达本田中国移动银联万达苏宁海航中央网信办华为小米微博科大讯飞等知名企业及政府机构涵盖安防金融智能手机移动互联网汽车智慧零售机器人等诸多行业为其提供基于人脸识别图像识别视频分析无人驾驶医疗影像识别等技术的完整解决方案年月商汤科技宣布完成亿美元轮融资创下当时全球人工智能领域单轮融资额纪录成为世界级的人工智能独角兽企业新一轮融资后商汤科技加大力度开展包括自动驾驶医疗影像以及深度学习芯片等领域的研发工作商汤科技现已在香港北京深圳上海成都杭州日本京都和东京成立分部汇集世界各地顶尖人才合力打造一家世界一流的原创人工智能技术公司中国智造慧及全球相关技术图像超分辨率重建计算机视觉人工智能技术在学术研究领域人工智能通常指能够感知周围环境并采取行动以实现最优的可能结果的智能体来源物联网技术物联网英语缩写是互联网传统电信网等信息承载体让所有能行使独立功能的普通物体实现互联互通的网络物联网一般为无线网而由于每个人周围的设备可以达到一千至五千个所以物联网可能要包含兆至一千兆个物体在物联网上每个人都可以应用电子标签将真实的物体上网联结在物联网上都可以查出它们的具体位置通过物联网可以用中心计算机对机器设备人员进行集中管理控制也可以对家庭设备汽车进行遥控以及搜索位置防止物品被盗等类似自动化操控系统同时通过收集这些小事的数据最后可以聚集成大数据包含重新设计道路以减少车祸都市更新灾害预测与犯罪防治流行病控制等等社会的重大改变实现物和物相联来源维基百科推荐文章场景还是场景配送服务正变天芯片也要走向终端应用的竞争机器之心招商局创投领投氪信科技完成轮融资机器之心海云数据战略发布会宣布完成亿元轮融资推出能力服务全新商业模式高静宜返回顶部关于我们寻求报道商务合作加入我们服务条款机器之心北京科技有限公司京备加入合作计划提交应用案例寻求技术提供方垂直领域合作全球人工智能信息服务友情链接机器之心博客网易智能动脉网硬蛋网达观数据品途商业评论艾耕科技联系电话联系邮箱\n"
     ]
    }
   ],
   "source": [
    "print(text4)"
   ]
  },
  {
   "cell_type": "code",
   "execution_count": 37,
   "metadata": {
    "collapsed": true
   },
   "outputs": [],
   "source": [
    "import jieba\n",
    "import warnings\n",
    "warnings.filterwarnings('ignore')\n",
    "word = jieba.cut(text4)"
   ]
  },
  {
   "cell_type": "code",
   "execution_count": 38,
   "metadata": {
    "collapsed": true
   },
   "outputs": [],
   "source": [
    "Lword = []\n",
    "for x in word: \n",
    "    Lword.append(''.join(x))"
   ]
  },
  {
   "cell_type": "code",
   "execution_count": 14,
   "metadata": {},
   "outputs": [
    {
     "name": "stdout",
     "output_type": "stream",
     "text": [
      "['特斯', '联', '科技', '完成', '亿元', '轮', '融资', '光大', '控股', '商汤', '投资', '机器', '之心', '产业', '登录', '探索', '知识产业', '专栏', '商用', '搜索', '四月', '原创', '特斯', '联', '科技', '完成', '亿元', '轮', '融资', '光大', '控股', '商汤', '投资', '本轮', '融资', '由', '光大', '控股', '资本', '领投', '商汤', '科技', '跟', '投月', '日', '机器', '之心', '消息', '人工智能', '物', '联网', '赛道', '独角兽', '企业', '特斯', '联', '科技', '宣布', '完成', '轮', '亿元', '人民币', '融资', '这是', '特斯', '联继', '去年', '月', '获轮', '亿', '人民币', '融资', '后', '再次', '刷新', '该', '领域', '单轮', '融资', '纪录', '本轮', '融资', '由', '光大', '控股', '资本', '领投', '商汤', '科技', '跟', '投', '光源', '资本', '担任', '本轮', '独家', '财务顾问', '据悉', '商汤', '科技', '此次', '参投', '也', '将', '为', '特斯', '联', '的', '精细化', '运营', '及', '产品开发', '提供', '原创', '底层', '技术支持', '特斯', '联是', '光大', '控股', '孵化', '的', '高科技', '创新', '企业', '承担', '着', '光大', '集团', '在', '新', '经济', '赛道', '上', '的', '重要', '使命', '是', '目前', '物', '联网', '领域', '快速', '成长', '的', '创业', '公司', '代表', '年', '月', '特斯', '联', '完成', '超过', '亿元', '轮', '融资', '由', '中国', '光大', '旗下', '基金', '与', '资本', '中信', '系', '产业资本', '以及', '其它', '战略', '投资人', '共同完成', '特斯', '联以', '人工智能', '物', '联网', '应用', '技术', '为', '核心', '建设', '城市', '级', '智能', '物', '联网', '平台', '为', '政府', '企业', '提供', '城市', '管理', '建筑', '能源管理', '公共安全', '管理', '等', '多', '场景', '整体', '解决方案', '其', '核心', '方案', '在于', '城市', '级', '智能', '物', '联网', '平台', '主要', '面向', '商用', '市政', '等', '公共', '领域', '据', '公开', '资料', '显示', '特斯', '联', '科技', '已', '在', '全国', '落地', '多个', '项目', '特斯', '联在', '年', '的', '订单', '额', '超过', '十', '亿元', '特斯', '联', '科技', '宣布', '轮', '融资', '亿', '人民币', '图中', '左起', '资本', '合伙人', '牛奎光', '；', '商汤', '科技', '战略', '投资部', '董事', '总经理', '王康曼', '；', '光大', '控股', '董事', '总经理', '新', '经济', '投资', '负责人', '艾渝', '；', '光源', '资本', '创始人', '郑', '烜', '乐', '；', '特斯', '联', '科技', '副总裁', '谢超', '光大', '控股', '执行', '董事', '兼', '首席', '执行官', '陈爽', '表示', '光大', '控股', '在', '投资', '上', '始终', '坚持', '传统', '经济', '和', '新', '经济', '相结合', '特斯', '联是', '光大', '控股', '旗下', '最大', '的', '人工智能', '物', '联网', '平台', '用', '新', '技术', '赋能', '助力', '产业', '智能', '升级', '所', '做', '是', '国之所', '需', '在', '特斯', '联', '构建', '起', '的', '生态系统', '中', '聚集', '头部', '技术', '携手', '传统', '行业', '让', '最前沿', '技术', '落地', '应用', '共同', '创造', '价值', '光大', '控股', '的', '另', '一个', '资产', '管理', '理念', '是', '深入', '企业', '发展', '从', '战略', '制定', '风险', '管控', '上', '赋予', '被', '投', '企业', '一系列', '发展', '动力', '在', '特斯', '联', '的', '成长', '过程', '中', '光大', '控股', '一直', '给予', '巨大', '帮助', '我们', '已经', '欣喜', '地', '看到', '特斯', '联成', '为了', '该', '领域', '内', '的', '独角兽', '解决方案', '触达', '了', '诸多', '场景', '未来', '还', '将', '进入', '养老', '学校', '医院', '等等', '这是', '我们', '设定', '的', '目标', '我们', '充满希望', '在', '新', '技术', '与', '传统', '行业', '的', '交点', '上', '落子', '布局', '这', '是', '新', '经济', '形态', '下', '的', '因势', '而', '谋', '应势', '而动', '光大', '控股', '董事', '总经理', '新', '经济', '投资', '负责人', '艾渝说', '特斯', '联正', '搭建', '起', '万物', '智联', '的', '桥梁', '与', '传统', '行业', '深度', '结合', '以', '技术', '赋能', '不断', '夯实', '并', '持续', '扩大', '行业', '领先', '优势', '与', '光大', '控股', '一同', '见证', '特斯', '联', '成长', '的', '资本', '也', '对', '其', '发展', '给予', '肯定', '资本', '创始', '董事长', '熊晓鸽', '用', '看重', '特斯', '联', '在', '产业', '智能化', '趋势', '下', '具备', '先发', '优势', '和', '深刻理解', '为', '连续', '投资', '做', '注脚', '他', '说', '产业', '智能化', '是', '必然趋势', '是', '无法', '忽视', '的', '大赛', '道', '同时', '资本', '也', '高度', '认同', '特斯', '联', '这支', '年轻', '卓越', '有', '冲劲', '的', '团队', '他们', '对', '前沿技术', '反应', '灵敏', '对', '人工智能', '物', '联网', '赋能', '应用', '有', '前瞻性', '并', '非常', '注重', '落地', '执行', '资本', '不仅', '希望', '在', '资本', '层面', '能', '提供', '强有力', '支持', '更', '希望', '成为', '特斯', '联', '最', '重要', '的', '合作伙伴', '同样', '作为', '重要', '战略伙伴', '以', '人工智能', '技术创新', '为', '驱动', '的', '商汤', '科技', '此次', '选择', '投资', '旨在', '与', '特斯', '联', '并肩', '拓展', '人工智能', '及物', '联网', '的', '落地', '应用', '还', '将', '提供', '原创', '底层', '技术支持', '并', '深化', '双方', '合作', '共创', '行业', '未来', '商汤', '科技', '联合', '创始人', '战略', '投融资', '负责人', '徐冰', '认为', '作为', '原创', '技术', '的', '先行者', '商汤', '科技', '在', '场景', '落地', '的', '过程', '中', '需要', '与', '极具', '产品', '层', '优势', '的', '伙伴', '强强', '联手', '打', '穿', '算法', '层', '与', '传统', '行业', '间', '的', '断层', '特斯', '联', '融通', '终端', '场景', '和', '行业', '切实', '需求', '同时', '有', '能力', '结合', '具体', '场景', '创新', '优化', '算法', '解决', '实际', '问题', '商汤', '希望', '能', '与', '这样', '处于', '行业', '头部', '的', '公司', '携手', '在', '长', '周期', '内', '创造', '更大', '价值', '人工智能', '结合物', '联网', '打通', '赋能', '百业', '的', '最后', '一环', '也', '将', '直接', '创造', '价值', '在', '智能', '产业化', '和', '产业', '智能化', '的', '过程', '中', '所', '创造', '的', '经济', '价值', '将', '覆盖', '到', '整个', '产业链', '上下游', '的', '所有', '企业', '特斯', '联', '副总裁', '谢超用', '共', '赢', '来', '概括', '这样', '的', '局面', '特斯', '联', '持续', '致力于', '为', '不同', '客户', '提供', '垂直', '行业', '的', '一站式', '智能化', '解决方案', '前端', '智能', '硬件', '配合', '自主', '研发', '的', '达尔文', '数据', '智能', '分析', '平台', '用', '技术', '赋能', '传统', '行业', '未来', '特斯', '联将', '与', '生态', '伙伴', '携手', '同行', '资源共享', '将', '落地', '应用', '到', '更', '广阔', '的', '场景', '中', '共同', '迎接', '产业', '智能化', '带来', '的', '新', '增长', '深入', '理解', '更', '多', '终端', '场景', '解决', '行业', '中', '遇到', '的', '切实', '痛点', '特斯', '联', '不仅', '在', '产业链', '条上', '纵向', '打深', '还', '将', '横向', '拓展', '商业', '生态', '以', '技术', '赋能', '传统', '行业', '助力', '产业', '智能化', '升级', '本轮', '融资', '后', '特斯', '联', '表示', '将', '在', '产品', '研发', '优质', '人才', '引进', '及', '场景', '布局', '等', '多个', '维度', '上', '加大', '投入', '成为', '更', '有', '价值', '的', '人工智能', '物', '联网', '平台', '企业', '与', '创新', '中国', '同步', '用', '科技成就', '美好生活', '产业', '特斯', '联', '资本', '商汤', '科技', '相关', '数据', '商汤', '科技', '机构', '商汤', '科技', '成立', '于', '年', '专注', '于', '计算机', '视觉', '和', '深度', '学习', '的', '原创', '技术', '是', '中国', '领先', '的', '人工智能', '头部', '公司', '估值', '超过', '亿美金', '以', '坚持', '原创', '让', '引领', '人类', '进步', '为', '使命', '商汤', '科技', '建立', '了', '国内', '顶级', '的', '自主', '研发', '的', '深度', '学习', '超算', '中心', '并', '成为', '中国', '一流', '的', '人工智能', '算法', '供应商', '商汤', '科技', '不仅', '在', '技术实力', '上', '领跑', '行业', '商业', '营收', '亦', '领先', '同行业', '在', '多个', '垂直', '领域', '的', '市场占有率', '居首位', '目前', '商汤', '科技', '已', '与', '国内外', '多个', '行业', '的', '多家', '领军', '企业', '建立', '合作', '包括', '英', '伟达', '本田', '中国移动', '银联', '万达', '苏宁', '海航', '中央', '网信', '办', '华为', '小米', '微博', '科大', '讯', '飞', '等', '知名企业', '及', '政府', '机构', '涵盖', '安防', '金融', '智能手机', '移动', '互联网', '汽车', '智慧', '零售', '机器人', '等', '诸多', '行业', '为', '其', '提供', '基于', '人脸识别', '图像识别', '视频', '分析', '无人驾驶', '医疗', '影像', '识别', '等', '技术', '的', '完整', '解决方案', '年', '月', '商汤', '科技', '宣布', '完成', '亿美元', '轮', '融资', '创下', '当时', '全球', '人工智能', '领域', '单轮', '融资额', '纪录', '成为', '世界级', '的', '人工智能', '独角兽', '企业', '新一轮', '融资', '后', '商汤', '科技', '加大力度', '开展', '包括', '自动', '驾驶', '医疗', '影像', '以及', '深度', '学习', '芯片', '等', '领域', '的', '研发', '工作', '商汤', '科技', '现已', '在', '香港', '北京', '深圳', '上海', '成都', '杭州', '日本', '京都', '和', '东京', '成立', '分部', '汇集', '世界各地', '顶尖', '人才', '合力', '打造', '一家', '世界', '一流', '的', '原创', '人工智能', '技术', '公司', '中国', '智造慧及', '全球', '相关', '技术', '图像', '超', '分辨率', '重建', '计算机', '视觉', '人工智能', '技术', '在', '学术研究', '领域', '人工智能', '通常', '指', '能够', '感知', '周围环境', '并', '采取行动', '以', '实现', '最优', '的', '可能', '结果', '的', '智能', '体', '来源', '物', '联网', '技术', '物', '联网', '英语', '缩写', '是', '互联网', '传统', '电信网', '等', '信息', '承', '载体', '让', '所有', '能', '行使', '独立', '功能', '的', '普通', '物体', '实现', '互联互通', '的', '网络', '物', '联网', '一般', '为', '无线网', '而', '由于', '每个', '人', '周围', '的', '设备', '可以', '达到', '一千', '至', '五千个', '所以', '物', '联网', '可能', '要', '包含', '兆', '至', '一', '千兆', '个', '物体', '在', '物', '联网', '上', '每个', '人', '都', '可以', '应用', '电子标签', '将', '真实', '的', '物体', '上网', '联结', '在', '物', '联网', '上', '都', '可以', '查出', '它们', '的', '具体位置', '通过', '物', '联网', '可以', '用', '中心', '计算机', '对', '机器设备', '人员', '进行', '集中管理', '控制', '也', '可以', '对', '家庭设备', '汽车', '进行', '遥控', '以及', '搜索', '位置', '防止', '物品', '被盗', '等', '类似', '自动化', '操控', '系统', '同时', '通过', '收集', '这些', '小事', '的', '数据', '最后', '可以', '聚集', '成', '大', '数据', '包含', '重新', '设计', '道路', '以', '减少', '车祸', '都市', '更新', '灾害', '预测', '与', '犯罪', '防治', '流行病', '控制', '等等', '社会', '的', '重大', '改变', '实现', '物和物', '相联', '来源', '维基百科', '推荐', '文章', '场景', '还是', '场景', '配送', '服务', '正', '变天', '芯片', '也', '要', '走向', '终端', '应用', '的', '竞争', '机器', '之心', '招商局', '创投', '领投', '氪', '信', '科技', '完成', '轮', '融资', '机器', '之心', '海云', '数据', '战略', '发布会', '宣布', '完成', '亿元', '轮', '融资', '推出', '能力', '服务', '全新', '商业模式', '高', '静宜', '返回', '顶部', '关于', '我们', '寻求', '报道', '商务', '合作', '加入', '我们', '服务', '条款', '机器', '之心', '北京', '科技', '有限公司', '京备', '加入', '合作', '计划', '提交', '应用', '案例', '寻求', '技术', '提供', '方', '垂直', '领域', '合作', '全球', '人工智能', '信息', '服务', '友情链接', '机器', '之心', '博客', '网易', '智能', '动脉', '网硬', '蛋网', '达观', '数据', '品途', '商业', '评论', '艾耕', '科技', '联系电话', '联系', '邮箱']\n"
     ]
    }
   ],
   "source": [
    "print(Lword)"
   ]
  },
  {
   "cell_type": "code",
   "execution_count": 15,
   "metadata": {
    "collapsed": true
   },
   "outputs": [],
   "source": [
    "with open('/home/lene/Documents/chinese_stop_words.txt') as f:\n",
    "    stopWords = [line.strip() for line in f.readlines()]"
   ]
  },
  {
   "cell_type": "code",
   "execution_count": 35,
   "metadata": {
    "collapsed": true
   },
   "outputs": [],
   "source": [
    "stopWords.extend(['跟', '后', '在','再次','多个','的','另','被','年','月','而','与','所以','这些','至','以','去年','为','已','人'])\n",
    "words = [w for w in Lword if w not in stopWords]"
   ]
  },
  {
   "cell_type": "code",
   "execution_count": 36,
   "metadata": {},
   "outputs": [
    {
     "name": "stdout",
     "output_type": "stream",
     "text": [
      "['特斯', '联', '科技', '完成', '亿元', '轮', '融资', '光大', '控股', '商汤', '投资', '机器', '之心', '产业', '登录', '探索', '知识产业', '专栏', '商用', '搜索', '四月', '原创', '特斯', '联', '科技', '完成', '亿元', '轮', '融资', '光大', '控股', '商汤', '投资', '本轮', '融资', '由', '光大', '控股', '资本', '领投', '商汤', '科技', '投月', '日', '机器', '之心', '消息', '人工智能', '物', '联网', '赛道', '独角兽', '企业', '特斯', '联', '科技', '宣布', '完成', '轮', '亿元', '人民币', '融资', '这是', '特斯', '联继', '获轮', '亿', '人民币', '融资', '刷新', '该', '领域', '单轮', '融资', '纪录', '本轮', '融资', '由', '光大', '控股', '资本', '领投', '商汤', '科技', '投', '光源', '资本', '担任', '本轮', '独家', '财务顾问', '据悉', '商汤', '科技', '此次', '参投', '也', '将', '特斯', '联', '精细化', '运营', '及', '产品开发', '提供', '原创', '底层', '技术支持', '特斯', '联是', '光大', '控股', '孵化', '高科技', '创新', '企业', '承担', '着', '光大', '集团', '新', '经济', '赛道', '上', '重要', '使命', '是', '目前', '物', '联网', '领域', '快速', '成长', '创业', '公司', '代表', '特斯', '联', '完成', '超过', '亿元', '轮', '融资', '由', '中国', '光大', '旗下', '基金', '资本', '中信', '系', '产业资本', '以及', '其它', '战略', '投资人', '共同完成', '特斯', '联以', '人工智能', '物', '联网', '应用', '技术', '核心', '建设', '城市', '级', '智能', '物', '联网', '平台', '政府', '企业', '提供', '城市', '管理', '建筑', '能源管理', '公共安全', '管理', '等', '多', '场景', '整体', '解决方案', '其', '核心', '方案', '在于', '城市', '级', '智能', '物', '联网', '平台', '主要', '面向', '商用', '市政', '等', '公共', '领域', '据', '公开', '资料', '显示', '特斯', '联', '科技', '全国', '落地', '项目', '特斯', '联在', '订单', '额', '超过', '十', '亿元', '特斯', '联', '科技', '宣布', '轮', '融资', '亿', '人民币', '图中', '左起', '资本', '合伙人', '牛奎光', '；', '商汤', '科技', '战略', '投资部', '董事', '总经理', '王康曼', '；', '光大', '控股', '董事', '总经理', '新', '经济', '投资', '负责人', '艾渝', '；', '光源', '资本', '创始人', '郑', '烜', '乐', '；', '特斯', '联', '科技', '副总裁', '谢超', '光大', '控股', '执行', '董事', '兼', '首席', '执行官', '陈爽', '表示', '光大', '控股', '投资', '上', '始终', '坚持', '传统', '经济', '和', '新', '经济', '相结合', '特斯', '联是', '光大', '控股', '旗下', '最大', '人工智能', '物', '联网', '平台', '用', '新', '技术', '赋能', '助力', '产业', '智能', '升级', '所', '做', '是', '国之所', '需', '特斯', '联', '构建', '起', '生态系统', '中', '聚集', '头部', '技术', '携手', '传统', '行业', '让', '最前沿', '技术', '落地', '应用', '共同', '创造', '价值', '光大', '控股', '一个', '资产', '管理', '理念', '是', '深入', '企业', '发展', '从', '战略', '制定', '风险', '管控', '上', '赋予', '投', '企业', '一系列', '发展', '动力', '特斯', '联', '成长', '过程', '中', '光大', '控股', '一直', '给予', '巨大', '帮助', '我们', '已经', '欣喜', '地', '看到', '特斯', '联成', '为了', '该', '领域', '内', '独角兽', '解决方案', '触达', '了', '诸多', '场景', '未来', '还', '将', '进入', '养老', '学校', '医院', '等等', '这是', '我们', '设定', '目标', '我们', '充满希望', '新', '技术', '传统', '行业', '交点', '上', '落子', '布局', '这', '是', '新', '经济', '形态', '下', '因势', '谋', '应势', '而动', '光大', '控股', '董事', '总经理', '新', '经济', '投资', '负责人', '艾渝说', '特斯', '联正', '搭建', '起', '万物', '智联', '桥梁', '传统', '行业', '深度', '结合', '技术', '赋能', '不断', '夯实', '并', '持续', '扩大', '行业', '领先', '优势', '光大', '控股', '一同', '见证', '特斯', '联', '成长', '资本', '也', '对', '其', '发展', '给予', '肯定', '资本', '创始', '董事长', '熊晓鸽', '用', '看重', '特斯', '联', '产业', '智能化', '趋势', '下', '具备', '先发', '优势', '和', '深刻理解', '连续', '投资', '做', '注脚', '他', '说', '产业', '智能化', '是', '必然趋势', '是', '无法', '忽视', '大赛', '道', '同时', '资本', '也', '高度', '认同', '特斯', '联', '这支', '年轻', '卓越', '有', '冲劲', '团队', '他们', '对', '前沿技术', '反应', '灵敏', '对', '人工智能', '物', '联网', '赋能', '应用', '有', '前瞻性', '并', '非常', '注重', '落地', '执行', '资本', '不仅', '希望', '资本', '层面', '能', '提供', '强有力', '支持', '更', '希望', '成为', '特斯', '联', '最', '重要', '合作伙伴', '同样', '作为', '重要', '战略伙伴', '人工智能', '技术创新', '驱动', '商汤', '科技', '此次', '选择', '投资', '旨在', '特斯', '联', '并肩', '拓展', '人工智能', '及物', '联网', '落地', '应用', '还', '将', '提供', '原创', '底层', '技术支持', '并', '深化', '双方', '合作', '共创', '行业', '未来', '商汤', '科技', '联合', '创始人', '战略', '投融资', '负责人', '徐冰', '认为', '作为', '原创', '技术', '先行者', '商汤', '科技', '场景', '落地', '过程', '中', '需要', '极具', '产品', '层', '优势', '伙伴', '强强', '联手', '打', '穿', '算法', '层', '传统', '行业', '间', '断层', '特斯', '联', '融通', '终端', '场景', '和', '行业', '切实', '需求', '同时', '有', '能力', '结合', '具体', '场景', '创新', '优化', '算法', '解决', '实际', '问题', '商汤', '希望', '能', '这样', '处于', '行业', '头部', '公司', '携手', '长', '周期', '内', '创造', '更大', '价值', '人工智能', '结合物', '联网', '打通', '赋能', '百业', '最后', '一环', '也', '将', '直接', '创造', '价值', '智能', '产业化', '和', '产业', '智能化', '过程', '中', '所', '创造', '经济', '价值', '将', '覆盖', '到', '整个', '产业链', '上下游', '所有', '企业', '特斯', '联', '副总裁', '谢超用', '共', '赢', '来', '概括', '这样', '局面', '特斯', '联', '持续', '致力于', '不同', '客户', '提供', '垂直', '行业', '一站式', '智能化', '解决方案', '前端', '智能', '硬件', '配合', '自主', '研发', '达尔文', '数据', '智能', '分析', '平台', '用', '技术', '赋能', '传统', '行业', '未来', '特斯', '联将', '生态', '伙伴', '携手', '同行', '资源共享', '将', '落地', '应用', '到', '更', '广阔', '场景', '中', '共同', '迎接', '产业', '智能化', '带来', '新', '增长', '深入', '理解', '更', '多', '终端', '场景', '解决', '行业', '中', '遇到', '切实', '痛点', '特斯', '联', '不仅', '产业链', '条上', '纵向', '打深', '还', '将', '横向', '拓展', '商业', '生态', '技术', '赋能', '传统', '行业', '助力', '产业', '智能化', '升级', '本轮', '融资', '特斯', '联', '表示', '将', '产品', '研发', '优质', '人才', '引进', '及', '场景', '布局', '等', '维度', '上', '加大', '投入', '成为', '更', '有', '价值', '人工智能', '物', '联网', '平台', '企业', '创新', '中国', '同步', '用', '科技成就', '美好生活', '产业', '特斯', '联', '资本', '商汤', '科技', '相关', '数据', '商汤', '科技', '机构', '商汤', '科技', '成立', '于', '专注', '于', '计算机', '视觉', '和', '深度', '学习', '原创', '技术', '是', '中国', '领先', '人工智能', '头部', '公司', '估值', '超过', '亿美金', '坚持', '原创', '让', '引领', '人类', '进步', '使命', '商汤', '科技', '建立', '了', '国内', '顶级', '自主', '研发', '深度', '学习', '超算', '中心', '并', '成为', '中国', '一流', '人工智能', '算法', '供应商', '商汤', '科技', '不仅', '技术实力', '上', '领跑', '行业', '商业', '营收', '亦', '领先', '同行业', '垂直', '领域', '市场占有率', '居首位', '目前', '商汤', '科技', '国内外', '行业', '多家', '领军', '企业', '建立', '合作', '包括', '英', '伟达', '本田', '中国移动', '银联', '万达', '苏宁', '海航', '中央', '网信', '办', '华为', '小米', '微博', '科大', '讯', '飞', '等', '知名企业', '及', '政府', '机构', '涵盖', '安防', '金融', '智能手机', '移动', '互联网', '汽车', '智慧', '零售', '机器人', '等', '诸多', '行业', '其', '提供', '基于', '人脸识别', '图像识别', '视频', '分析', '无人驾驶', '医疗', '影像', '识别', '等', '技术', '完整', '解决方案', '商汤', '科技', '宣布', '完成', '亿美元', '轮', '融资', '创下', '当时', '全球', '人工智能', '领域', '单轮', '融资额', '纪录', '成为', '世界级', '人工智能', '独角兽', '企业', '新一轮', '融资', '商汤', '科技', '加大力度', '开展', '包括', '自动', '驾驶', '医疗', '影像', '以及', '深度', '学习', '芯片', '等', '领域', '研发', '工作', '商汤', '科技', '现已', '香港', '北京', '深圳', '上海', '成都', '杭州', '日本', '京都', '和', '东京', '成立', '分部', '汇集', '世界各地', '顶尖', '人才', '合力', '打造', '一家', '世界', '一流', '原创', '人工智能', '技术', '公司', '中国', '智造慧及', '全球', '相关', '技术', '图像', '超', '分辨率', '重建', '计算机', '视觉', '人工智能', '技术', '学术研究', '领域', '人工智能', '通常', '指', '能够', '感知', '周围环境', '并', '采取行动', '实现', '最优', '可能', '结果', '智能', '体', '来源', '物', '联网', '技术', '物', '联网', '英语', '缩写', '是', '互联网', '传统', '电信网', '等', '信息', '承', '载体', '让', '所有', '能', '行使', '独立', '功能', '普通', '物体', '实现', '互联互通', '网络', '物', '联网', '一般', '无线网', '由于', '每个', '周围', '设备', '可以', '达到', '一千', '五千个', '物', '联网', '可能', '要', '包含', '兆', '一', '千兆', '个', '物体', '物', '联网', '上', '每个', '都', '可以', '应用', '电子标签', '将', '真实', '物体', '上网', '联结', '物', '联网', '上', '都', '可以', '查出', '它们', '具体位置', '通过', '物', '联网', '可以', '用', '中心', '计算机', '对', '机器设备', '人员', '进行', '集中管理', '控制', '也', '可以', '对', '家庭设备', '汽车', '进行', '遥控', '以及', '搜索', '位置', '防止', '物品', '被盗', '等', '类似', '自动化', '操控', '系统', '同时', '通过', '收集', '小事', '数据', '最后', '可以', '聚集', '成', '大', '数据', '包含', '重新', '设计', '道路', '减少', '车祸', '都市', '更新', '灾害', '预测', '犯罪', '防治', '流行病', '控制', '等等', '社会', '重大', '改变', '实现', '物和物', '相联', '来源', '维基百科', '推荐', '文章', '场景', '还是', '场景', '配送', '服务', '正', '变天', '芯片', '也', '要', '走向', '终端', '应用', '竞争', '机器', '之心', '招商局', '创投', '领投', '氪', '信', '科技', '完成', '轮', '融资', '机器', '之心', '海云', '数据', '战略', '发布会', '宣布', '完成', '亿元', '轮', '融资', '推出', '能力', '服务', '全新', '商业模式', '高', '静宜', '返回', '顶部', '关于', '我们', '寻求', '报道', '商务', '合作', '加入', '我们', '服务', '条款', '机器', '之心', '北京', '科技', '有限公司', '京备', '加入', '合作', '计划', '提交', '应用', '案例', '寻求', '技术', '提供', '方', '垂直', '领域', '合作', '全球', '人工智能', '信息', '服务', '友情链接', '机器', '之心', '博客', '网易', '智能', '动脉', '网硬', '蛋网', '达观', '数据', '品途', '商业', '评论', '艾耕', '科技', '联系电话', '联系', '邮箱']\n"
     ]
    }
   ],
   "source": [
    "print(words)"
   ]
  },
  {
   "cell_type": "code",
   "execution_count": 39,
   "metadata": {},
   "outputs": [
    {
     "name": "stdout",
     "output_type": "stream",
     "text": [
      "Counter({'特斯': 29, '科技': 25, '联': 21, '商汤': 19, '联网': 17, '人工智能': 16, '技术': 16, '光大': 15, '物': 15, '行业': 15, '融资': 14, '控股': 13, '资本': 12, '场景': 10, '企业': 9, '领域': 9, '将': 9, '等': 9, '轮': 8, '产业': 8, '新': 8, '上': 8, '是': 8, '应用': 8, '智能': 8, '传统': 8, '完成': 7, '投资': 7, '原创': 7, '提供': 7, '经济': 7, '亿元': 6, '机器': 6, '之心': 6, '也': 6, '落地': 6, '和': 6, '赋能': 6, '中': 6, '智能化': 6, '数据': 6, '可以': 6, '中国': 5, '战略': 5, '平台': 5, '用': 5, '价值': 5, '我们': 5, '并': 5, '对': 5, '合作': 5, '本轮': 4, '宣布': 4, '公司': 4, '解决方案': 4, '；': 4, '董事': 4, '创造': 4, '深度': 4, '有': 4, '更': 4, '成为': 4, '研发': 4, '服务': 4, '由': 3, '领投': 3, '独角兽': 3, '人民币': 3, '及': 3, '创新': 3, '重要': 3, '成长': 3, '超过': 3, '以及': 3, '城市': 3, '管理': 3, '其': 3, '总经理': 3, '负责人': 3, '头部': 3, '携手': 3, '让': 3, '发展': 3, '过程': 3, '未来': 3, '还': 3, '领先': 3, '优势': 3, '同时': 3, '不仅': 3, '希望': 3, '能': 3, '算法': 3, '终端': 3, '垂直': 3, '商业': 3, '计算机': 3, '学习': 3, '全球': 3, '实现': 3, '物体': 3, '商用': 2, '搜索': 2, '赛道': 2, '这是': 2, '亿': 2, '该': 2, '单轮': 2, '纪录': 2, '投': 2, '光源': 2, '此次': 2, '底层': 2, '技术支持': 2, '联是': 2, '使命': 2, '目前': 2, '旗下': 2, '核心': 2, '级': 2, '政府': 2, '多': 2, '创始人': 2, '副总裁': 2, '执行': 2, '表示': 2, '坚持': 2, '助力': 2, '升级': 2, '所': 2, '做': 2, '起': 2, '聚集': 2, '共同': 2, '深入': 2, '给予': 2, '内': 2, '了': 2, '诸多': 2, '等等': 2, '布局': 2, '下': 2, '结合': 2, '持续': 2, '作为': 2, '拓展': 2, '产品': 2, '层': 2, '伙伴': 2, '切实': 2, '能力': 2, '解决': 2, '这样': 2, '最后': 2, '到': 2, '产业链': 2, '所有': 2, '自主': 2, '分析': 2, '生态': 2, '人才': 2, '相关': 2, '机构': 2, '成立': 2, '于': 2, '视觉': 2, '建立': 2, '中心': 2, '一流': 2, '包括': 2, '互联网': 2, '汽车': 2, '医疗': 2, '影像': 2, '芯片': 2, '北京': 2, '可能': 2, '来源': 2, '信息': 2, '每个': 2, '要': 2, '包含': 2, '都': 2, '通过': 2, '进行': 2, '控制': 2, '寻求': 2, '加入': 2, '登录': 1, '探索': 1, '知识产业': 1, '专栏': 1, '四月': 1, '投月': 1, '日': 1, '消息': 1, '联继': 1, '获轮': 1, '刷新': 1, '担任': 1, '独家': 1, '财务顾问': 1, '据悉': 1, '参投': 1, '精细化': 1, '运营': 1, '产品开发': 1, '孵化': 1, '高科技': 1, '承担': 1, '着': 1, '集团': 1, '快速': 1, '创业': 1, '代表': 1, '基金': 1, '中信': 1, '系': 1, '产业资本': 1, '其它': 1, '投资人': 1, '共同完成': 1, '联以': 1, '建设': 1, '建筑': 1, '能源管理': 1, '公共安全': 1, '整体': 1, '方案': 1, '在于': 1, '主要': 1, '面向': 1, '市政': 1, '公共': 1, '据': 1, '公开': 1, '资料': 1, '显示': 1, '全国': 1, '项目': 1, '联在': 1, '订单': 1, '额': 1, '十': 1, '图中': 1, '左起': 1, '合伙人': 1, '牛奎光': 1, '投资部': 1, '王康曼': 1, '艾渝': 1, '郑': 1, '烜': 1, '乐': 1, '谢超': 1, '兼': 1, '首席': 1, '执行官': 1, '陈爽': 1, '始终': 1, '相结合': 1, '最大': 1, '国之所': 1, '需': 1, '构建': 1, '生态系统': 1, '最前沿': 1, '一个': 1, '资产': 1, '理念': 1, '从': 1, '制定': 1, '风险': 1, '管控': 1, '赋予': 1, '一系列': 1, '动力': 1, '一直': 1, '巨大': 1, '帮助': 1, '已经': 1, '欣喜': 1, '地': 1, '看到': 1, '联成': 1, '为了': 1, '触达': 1, '进入': 1, '养老': 1, '学校': 1, '医院': 1, '设定': 1, '目标': 1, '充满希望': 1, '交点': 1, '落子': 1, '这': 1, '形态': 1, '因势': 1, '谋': 1, '应势': 1, '而动': 1, '艾渝说': 1, '联正': 1, '搭建': 1, '万物': 1, '智联': 1, '桥梁': 1, '不断': 1, '夯实': 1, '扩大': 1, '一同': 1, '见证': 1, '肯定': 1, '创始': 1, '董事长': 1, '熊晓鸽': 1, '看重': 1, '趋势': 1, '具备': 1, '先发': 1, '深刻理解': 1, '连续': 1, '注脚': 1, '他': 1, '说': 1, '必然趋势': 1, '无法': 1, '忽视': 1, '大赛': 1, '道': 1, '高度': 1, '认同': 1, '这支': 1, '年轻': 1, '卓越': 1, '冲劲': 1, '团队': 1, '他们': 1, '前沿技术': 1, '反应': 1, '灵敏': 1, '前瞻性': 1, '非常': 1, '注重': 1, '层面': 1, '强有力': 1, '支持': 1, '最': 1, '合作伙伴': 1, '同样': 1, '战略伙伴': 1, '技术创新': 1, '驱动': 1, '选择': 1, '旨在': 1, '并肩': 1, '及物': 1, '深化': 1, '双方': 1, '共创': 1, '联合': 1, '投融资': 1, '徐冰': 1, '认为': 1, '先行者': 1, '需要': 1, '极具': 1, '强强': 1, '联手': 1, '打': 1, '穿': 1, '间': 1, '断层': 1, '融通': 1, '需求': 1, '具体': 1, '优化': 1, '实际': 1, '问题': 1, '处于': 1, '长': 1, '周期': 1, '更大': 1, '结合物': 1, '打通': 1, '百业': 1, '一环': 1, '直接': 1, '产业化': 1, '覆盖': 1, '整个': 1, '上下游': 1, '谢超用': 1, '共': 1, '赢': 1, '来': 1, '概括': 1, '局面': 1, '致力于': 1, '不同': 1, '客户': 1, '一站式': 1, '前端': 1, '硬件': 1, '配合': 1, '达尔文': 1, '联将': 1, '同行': 1, '资源共享': 1, '广阔': 1, '迎接': 1, '带来': 1, '增长': 1, '理解': 1, '遇到': 1, '痛点': 1, '条上': 1, '纵向': 1, '打深': 1, '横向': 1, '优质': 1, '引进': 1, '维度': 1, '加大': 1, '投入': 1, '同步': 1, '科技成就': 1, '美好生活': 1, '专注': 1, '估值': 1, '亿美金': 1, '引领': 1, '人类': 1, '进步': 1, '国内': 1, '顶级': 1, '超算': 1, '供应商': 1, '技术实力': 1, '领跑': 1, '营收': 1, '亦': 1, '同行业': 1, '市场占有率': 1, '居首位': 1, '国内外': 1, '多家': 1, '领军': 1, '英': 1, '伟达': 1, '本田': 1, '中国移动': 1, '银联': 1, '万达': 1, '苏宁': 1, '海航': 1, '中央': 1, '网信': 1, '办': 1, '华为': 1, '小米': 1, '微博': 1, '科大': 1, '讯': 1, '飞': 1, '知名企业': 1, '涵盖': 1, '安防': 1, '金融': 1, '智能手机': 1, '移动': 1, '智慧': 1, '零售': 1, '机器人': 1, '基于': 1, '人脸识别': 1, '图像识别': 1, '视频': 1, '无人驾驶': 1, '识别': 1, '完整': 1, '亿美元': 1, '创下': 1, '当时': 1, '融资额': 1, '世界级': 1, '新一轮': 1, '加大力度': 1, '开展': 1, '自动': 1, '驾驶': 1, '工作': 1, '现已': 1, '香港': 1, '深圳': 1, '上海': 1, '成都': 1, '杭州': 1, '日本': 1, '京都': 1, '东京': 1, '分部': 1, '汇集': 1, '世界各地': 1, '顶尖': 1, '合力': 1, '打造': 1, '一家': 1, '世界': 1, '智造慧及': 1, '图像': 1, '超': 1, '分辨率': 1, '重建': 1, '学术研究': 1, '通常': 1, '指': 1, '能够': 1, '感知': 1, '周围环境': 1, '采取行动': 1, '最优': 1, '结果': 1, '体': 1, '英语': 1, '缩写': 1, '电信网': 1, '承': 1, '载体': 1, '行使': 1, '独立': 1, '功能': 1, '普通': 1, '互联互通': 1, '网络': 1, '一般': 1, '无线网': 1, '由于': 1, '周围': 1, '设备': 1, '达到': 1, '一千': 1, '五千个': 1, '兆': 1, '一': 1, '千兆': 1, '个': 1, '电子标签': 1, '真实': 1, '上网': 1, '联结': 1, '查出': 1, '它们': 1, '具体位置': 1, '机器设备': 1, '人员': 1, '集中管理': 1, '家庭设备': 1, '遥控': 1, '位置': 1, '防止': 1, '物品': 1, '被盗': 1, '类似': 1, '自动化': 1, '操控': 1, '系统': 1, '收集': 1, '小事': 1, '成': 1, '大': 1, '重新': 1, '设计': 1, '道路': 1, '减少': 1, '车祸': 1, '都市': 1, '更新': 1, '灾害': 1, '预测': 1, '犯罪': 1, '防治': 1, '流行病': 1, '社会': 1, '重大': 1, '改变': 1, '物和物': 1, '相联': 1, '维基百科': 1, '推荐': 1, '文章': 1, '还是': 1, '配送': 1, '正': 1, '变天': 1, '走向': 1, '竞争': 1, '招商局': 1, '创投': 1, '氪': 1, '信': 1, '海云': 1, '发布会': 1, '推出': 1, '全新': 1, '商业模式': 1, '高': 1, '静宜': 1, '返回': 1, '顶部': 1, '关于': 1, '报道': 1, '商务': 1, '条款': 1, '有限公司': 1, '京备': 1, '计划': 1, '提交': 1, '案例': 1, '方': 1, '友情链接': 1, '博客': 1, '网易': 1, '动脉': 1, '网硬': 1, '蛋网': 1, '达观': 1, '品途': 1, '评论': 1, '艾耕': 1, '联系电话': 1, '联系': 1, '邮箱': 1})\n"
     ]
    }
   ],
   "source": [
    "from collections import Counter\n",
    "count = Counter(words)\n",
    "print (count)"
   ]
  },
  {
   "cell_type": "code",
   "execution_count": 10,
   "metadata": {
    "collapsed": true
   },
   "outputs": [],
   "source": [
    "import os\n",
    "from pyltp import Segmentor, Postagger, Parser, NamedEntityRecognizer, SementicRoleLabeller\n",
    "class LtpParser:\n",
    "    def __init__(self):\n",
    "        LTP_DIR = \"/home/lene/Python/ltp_data\"\n",
    "        self.segmentor = Segmentor()\n",
    "        self.segmentor.load(os.path.join(LTP_DIR, \"cws.model\"))\n",
    "\n",
    "        self.postagger = Postagger()\n",
    "        self.postagger.load(os.path.join(LTP_DIR, \"pos.model\"))\n",
    "\n",
    "        self.parser = Parser()\n",
    "        self.parser.load(os.path.join(LTP_DIR, \"parser.model\"))\n",
    "\n",
    "        self.recognizer = NamedEntityRecognizer()\n",
    "        self.recognizer.load(os.path.join(LTP_DIR, \"ner.model\"))\n",
    "\n",
    "        self.labeller = SementicRoleLabeller()\n",
    "        self.labeller.load(os.path.join(LTP_DIR, 'pisrl.model'))\n",
    "\n",
    "    '''语义角色标注'''\n",
    "    def format_labelrole(self, words, postags):\n",
    "        arcs = self.parser.parse(words, postags)\n",
    "        roles = self.labeller.label(words, postags, arcs)\n",
    "        roles_dict = {}\n",
    "        for role in roles:\n",
    "            roles_dict[role.index] = {arg.name:[arg.name,arg.range.start, arg.range.end] for arg in role.arguments}\n",
    "        return roles_dict\n",
    "\n",
    "    '''句法分析---为句子中的每个词语维护一个保存句法依存儿子节点的字典'''\n",
    "    def build_parse_child_dict(self, words, postags, arcs):\n",
    "        child_dict_list = []\n",
    "        format_parse_list = []\n",
    "        for index in range(len(words)):\n",
    "            child_dict = dict()\n",
    "            for arc_index in range(len(arcs)):\n",
    "                if arcs[arc_index].head == index+1:   #arcs的索引从1开始\n",
    "                    if arcs[arc_index].relation in child_dict:\n",
    "                        child_dict[arcs[arc_index].relation].append(arc_index)\n",
    "                    else:\n",
    "                        child_dict[arcs[arc_index].relation] = []\n",
    "                        child_dict[arcs[arc_index].relation].append(arc_index)\n",
    "            child_dict_list.append(child_dict)\n",
    "        rely_id = [arc.head for arc in arcs]  # 提取依存父节点id\n",
    "        relation = [arc.relation for arc in arcs]  # 提取依存关系\n",
    "        heads = ['Root' if id == 0 else words[id - 1] for id in rely_id]  # 匹配依存父节点词语\n",
    "        for i in range(len(words)):\n",
    "            a = [relation[i], words[i], i, postags[i], heads[i], rely_id[i]-1, postags[rely_id[i]-1]]\n",
    "            format_parse_list.append(a)\n",
    "\n",
    "        return child_dict_list, format_parse_list\n",
    "\n",
    "    '''parser主函数'''\n",
    "    def parser_main(self, sentence):\n",
    "        words = list(self.segmentor.segment(sentence))\n",
    "        postags = list(self.postagger.postag(words))\n",
    "        arcs = self.parser.parse(words, postags)\n",
    "        child_dict_list, format_parse_list = self.build_parse_child_dict(words, postags, arcs)\n",
    "        roles_dict = self.format_labelrole(words, postags)\n",
    "        return words, postags, child_dict_list, roles_dict, format_parse_list\n"
   ]
  },
  {
   "cell_type": "code",
   "execution_count": 11,
   "metadata": {
    "collapsed": true
   },
   "outputs": [],
   "source": [
    "import re\n",
    "\n",
    "class TripleExtractor:\n",
    "    def __init__(self):\n",
    "        self.parser = LtpParser()\n",
    "\n",
    "    '''文章分句处理, 切分长句，冒号，分号，感叹号等做切分标识'''\n",
    "    def split_sents(self, content):\n",
    "        return [sentence for sentence in re.split(r'[？?！!。；;：:\\n\\r]', content) if sentence]\n",
    "\n",
    "    '''利用语义角色标注,直接获取主谓宾三元组,基于A0,A1,A2'''\n",
    "    def ruler1(self, words, postags, roles_dict, role_index):\n",
    "        v = words[role_index]\n",
    "        role_info = roles_dict[role_index]\n",
    "        if 'A0' in role_info.keys() and 'A1' in role_info.keys():\n",
    "            s = ''.join([words[word_index] for word_index in range(role_info['A0'][1], role_info['A0'][2]+1) if\n",
    "                         postags[word_index][0] not in ['w', 'u', 'x'] and words[word_index]])\n",
    "            o = ''.join([words[word_index] for word_index in range(role_info['A1'][1], role_info['A1'][2]+1) if\n",
    "                         postags[word_index][0] not in ['w', 'u', 'x'] and words[word_index]])\n",
    "            if s  and o:\n",
    "                return '1', [s, v, o]\n",
    "   \n",
    "\n",
    "    '''三元组抽取主函数'''\n",
    "    def ruler2(self, words, postags, child_dict_list, arcs, roles_dict):\n",
    "        svos = []\n",
    "        for index in range(len(postags)):\n",
    "            tmp = 1\n",
    "            # 先借助语义角色标注的结果，进行三元组抽取\n",
    "            if index in roles_dict:\n",
    "                flag, triple = self.ruler1(words, postags, roles_dict, index)\n",
    "                if flag == '1':\n",
    "                    svos.append(triple)\n",
    "                    tmp = 0\n",
    "            if tmp == 1:\n",
    "                # 如果语义角色标记为空，则使用依存句法进行抽取\n",
    "                # if postags[index] == 'v':\n",
    "                if postags[index]:\n",
    "                # 抽取以谓词为中心的事实三元组\n",
    "                    child_dict = child_dict_list[index]\n",
    "                    # 主谓宾\n",
    "                    if 'SBV' in child_dict and 'VOB' in child_dict:\n",
    "                        r = words[index]\n",
    "                        e1 = self.complete_e(words, postags, child_dict_list, child_dict['SBV'][0])\n",
    "                        e2 = self.complete_e(words, postags, child_dict_list, child_dict['VOB'][0])\n",
    "                        svos.append([e1, r, e2])\n",
    "\n",
    "                    # 定语后置，动宾关系\n",
    "                    relation = arcs[index][0]\n",
    "                    head = arcs[index][2]\n",
    "                    if relation == 'ATT':\n",
    "                        if 'VOB' in child_dict:\n",
    "                            e1 = self.complete_e(words, postags, child_dict_list, head - 1)\n",
    "                            r = words[index]\n",
    "                            e2 = self.complete_e(words, postags, child_dict_list, child_dict['VOB'][0])\n",
    "                            temp_string = r + e2\n",
    "                            if temp_string == e1[:len(temp_string)]:\n",
    "                                e1 = e1[len(temp_string):]\n",
    "                            if temp_string not in e1:\n",
    "                                svos.append([e1, r, e2])\n",
    "                    # 含有介宾关系的主谓动补关系\n",
    "                    if 'SBV' in child_dict and 'CMP' in child_dict:\n",
    "                        e1 = self.complete_e(words, postags, child_dict_list, child_dict['SBV'][0])\n",
    "                        cmp_index = child_dict['CMP'][0]\n",
    "                        r = words[index] + words[cmp_index]\n",
    "                        if 'POB' in child_dict_list[cmp_index]:\n",
    "                            e2 = self.complete_e(words, postags, child_dict_list, child_dict_list[cmp_index]['POB'][0])\n",
    "                            svos.append([e1, r, e2])\n",
    "        return svos\n",
    "\n",
    "    '''对找出的主语或者宾语进行扩展'''\n",
    "    def complete_e(self, words, postags, child_dict_list, word_index):\n",
    "        child_dict = child_dict_list[word_index]\n",
    "        prefix = ''\n",
    "        if 'ATT' in child_dict:\n",
    "            for i in range(len(child_dict['ATT'])):\n",
    "                prefix += self.complete_e(words, postags, child_dict_list, child_dict['ATT'][i])\n",
    "        postfix = ''\n",
    "        if postags[word_index] == 'v':\n",
    "            if 'VOB' in child_dict:\n",
    "                postfix += self.complete_e(words, postags, child_dict_list, child_dict['VOB'][0])\n",
    "            if 'SBV' in child_dict:\n",
    "                prefix = self.complete_e(words, postags, child_dict_list, child_dict['SBV'][0]) + prefix\n",
    "\n",
    "        return prefix + words[word_index] + postfix\n",
    "\n",
    "    '''程序主控函数'''\n",
    "    def triples_main(self, content):\n",
    "        sentences = self.split_sents(content)\n",
    "        svos = []\n",
    "        for sentence in sentences:\n",
    "            words, postags, child_dict_list, roles_dict, arcs = self.parser.parser_main(sentence)\n",
    "            svo = self.ruler2(words, postags, child_dict_list, arcs, roles_dict)\n",
    "            svos += svo\n",
    "\n",
    "        return svos\n"
   ]
  },
  {
   "cell_type": "code",
   "execution_count": 13,
   "metadata": {
    "collapsed": true
   },
   "outputs": [],
   "source": [
    "content='特斯联科技完成亿元轮融资，光大控股、、商汤投资机器之心产业登录探索知识产业专栏商用搜索四月原创:特斯联科技完成亿元轮融资，光大控股、、商汤投资本轮融资由光大控股、资本领投，商汤科技跟投。月日机器之心消息，人工智能物联网赛道独角兽企业特斯联科技宣布完成轮亿元人民币融资。这是特斯联继去年月获轮亿人民币融资后，再次刷新该领域单轮融资纪录。本轮融资由光大控股、资本领投，商汤科技跟投。光源资本担任本轮独家财务顾问。据悉，商汤科技此次参投也将为特斯联的精细化运营及产品开发提供原创底层技术支持。特斯联是光大控股孵化的高科技创新企业，承担着光大集团在新经济赛道上的重要使命，是目前物联网领域快速成长的创业公司代表。年月，特斯联完成超过亿元轮融资，由中国光大旗下基金与资本，中信系产业资本以及其它战略投资人共同完成。特斯联以人工智能物联网应用技术为核心，建设城市级智能物联网平台，为政府、企业提供城市管理、建筑能源管理、公共安全管理等多场景整体解决方案。其核心方案在于“城市级智能物联网平台”，主要面向商用、市政等公共领域。据公开资料显示，特斯联科技已在全国落地多个项目，特斯联在年的订单额超过十亿元。特斯联科技宣布轮融资亿人民币（图中左起资本合伙人牛奎光；商汤科技战略投资部董事总经理王康曼；光大控股董事总经理、新经济投资负责人艾渝；光源资本创始人、郑烜乐；特斯联科技副总裁谢超）光大控股执行董事兼首席执行官陈爽表示“光大控股在投资上，始终坚持传统经济和新经济相结合。特斯联是光大控股旗下最大的人工智能物联网平台，用新技术赋能，助力产业智能升级，所做是国之所需。在特斯联构建起的生态系统中，聚集头部技术，携手传统行业，让最前沿技术落地应用，共同创造价值。光大控股的另一个资产管理理念是深入企业发展，从战略制定、风险管控上赋予被投企业一系列发展动力。在特斯联的成长过程中，光大控股一直给予巨大帮助。我们已经欣喜地看到，特斯联成为了该领域内的独角兽，解决方案触达了诸多场景，未来还将进入养老、学校、医院等等。这是我们设定的目标，我们充满希望。”在新技术与传统行业的交点上落子布局，这是新经济形态下的因势而谋、应势而动。光大控股董事总经理、新经济投资负责人艾渝说“特斯联正搭建起万物智联的‘桥梁’，与传统行业深度结合、以技术赋能，不断夯实并持续扩大行业领先优势。”与光大控股一同见证特斯联成长的资本，也对其发展给予肯定。资本创始董事长熊晓鸽，用看重特斯联在产业智能化趋势下，具备先发优势和深刻理解为连续投资做注脚。他说“产业智能化是必然趋势，是无法忽视的大赛道。同时，资本也高度认同特斯联这支年轻、卓越、有冲劲的团队。他们对前沿技术反应灵敏，对人工智能物联网赋能应用有前瞻性，并非常注重落地执行。资本不仅希望在资本层面能提供强有力支持，更希望成为特斯联最重要的合作伙伴。”同样作为重要战略伙伴，以人工智能技术创新为驱动的商汤科技此次选择投资，旨在与特斯联并肩拓展人工智能及物联网的落地应用，还将提供原创底层技术支持并深化双方合作，共创行业未来。商汤科技联合创始人、战略投融资负责人徐冰认为“作为原创技术的先行者，商汤科技在场景落地的过程中，需要与极具产品层优势的伙伴强强联手，打穿算法层与传统行业间的断层。特斯联融通终端场景和行业切实需求，同时有能力结合具体场景创新优化算法、解决实际问题。商汤希望能与这样处于行业头部的公司携手，在长周期内创造更大价值。”人工智能结合物联网，打通赋能百业的最后一环，也将直接创造价值。在智能产业化和产业智能化的过程中，所创造的经济价值将覆盖到整个产业链上下游的所有企业。特斯联副总裁谢超用“共赢”来概括这样的局面“特斯联持续致力于为不同客户提供垂直行业的一站式、智能化解决方案。前端智能硬件配合自主研发的达尔文数据智能分析平台，用技术赋能传统行业。未来，特斯联将与生态伙伴携手同行、资源共享，将落地应用到更广阔的场景中，共同迎接产业智能化带来的新增长。”深入理解更多终端场景，解决行业中遇到的切实痛点，特斯联不仅在产业链条上纵向打深，还将横向拓展商业生态。以技术赋能传统行业，助力产业智能化升级。本轮融资后，特斯联表示将在产品研发、优质人才引进及场景布局等多个维度上加大投入，成为更有价值的人工智能物联网平台企业。与创新中国同步，用科技成就美好生活。产业特斯联资本商汤科技相关数据商汤科技机构商汤科技成立于年，专注于计算机视觉和深度学习的原创技术，是中国领先的人工智能头部公司，估值超过亿美金。以“坚持原创，让引领人类进步”为使命，商汤科技建立了国内顶级的自主研发的深度学习超算中心，并成为中国一流的人工智能算法供应商。商汤科技不仅在技术实力上领跑行业，商业营收亦领先同行业，在多个垂直领域的市场占有率居首位。目前，商汤科技已与国内外多个行业的多家领军企业建立合作，包括、英伟达、本田、中国移动、银联、万达、苏宁、海航、中央网信办、华为、小米、、、微博、科大讯飞等知名企业及政府机构，涵盖安防、金融、智能手机、移动互联网、汽车、智慧零售、机器人等诸多行业，为其提供基于人脸识别、图像识别、视频分析、无人驾驶、医疗影像识别等技术的完整解决方案。年月，商汤科技宣布完成亿美元轮融资，创下当时全球人工智能领域单轮融资额纪录，成为世界级的人工智能独角兽企业。新一轮融资后，商汤科技加大力度开展包括自动驾驶、医疗影像以及深度学习芯片等领域的研发工作。商汤科技现已在香港、北京、深圳、上海、成都、杭州、日本京都和东京成立分部，汇集世界各地顶尖人才，合力打造一家世界一流的原创人工智能技术公司。中国“智”造，“慧”及全球。相关技术图像超分辨率重建计算机视觉人工智能技术在学术研究领域，人工智能通常指能够感知周围环境并采取行动以实现最优的可能结果的智能体（）来源&:物联网技术物联网（英语，缩写）是互联网、传统电信网等信息承载体，让所有能行使独立功能的普通物体实现互联互通的网络。物联网一般为无线网，而由于每个人周围的设备可以达到一千至五千个，所以物联网可能要包含兆至一千兆个物体。在物联网上，每个人都可以应用电子标签将真实的物体上网联结，在物联网上都可以查出它们的具体位置。通过物联网可以用中心计算机对机器、设备、人员进行集中管理、控制，也可以对家庭设备、汽车进行遥控，以及搜索位置、防止物品被盗等，类似自动化操控系统，同时通过收集这些小事的数据，最后可以聚集成大数据，包含重新设计道路以减少车祸、都市更新、灾害预测与犯罪防治、流行病控制等等社会的重大改变，实现物和物相联。来源维基百科推荐文章场景还是场景，配送服务正变天？芯片也要走向终端应用的竞争?机器之心招商局创投领投，氪信科技完成轮融资机器之心海云数据战略发布会宣布完成亿元轮融资，推出能力服务全新商业模式高静宜返回顶部关于我们寻求报道商务合作加入我们服务条款©机器之心（北京）科技有限公司京备加入合作计划提交应用案例寻求技术提供方垂直领域合作全球人工智能信息服务友情链接:机器之心博客网易智能动脉网硬蛋网达观数据品途商业评论艾耕科技'"
   ]
  },
  {
   "cell_type": "code",
   "execution_count": null,
   "metadata": {
    "collapsed": true
   },
   "outputs": [],
   "source": [
    "\n",
    "extractor = TripleExtractor()\n",
    "svos = extractor.triples_main(content)\n",
    "print('svos', svos)\n"
   ]
  },
  {
   "cell_type": "code",
   "execution_count": null,
   "metadata": {
    "collapsed": true
   },
   "outputs": [],
   "source": []
  },
  {
   "cell_type": "code",
   "execution_count": null,
   "metadata": {
    "collapsed": true
   },
   "outputs": [],
   "source": []
  }
 ],
 "metadata": {
  "kernelspec": {
   "display_name": "Python 3",
   "language": "python",
   "name": "python3"
  },
  "language_info": {
   "codemirror_mode": {
    "name": "ipython",
    "version": 3
   },
   "file_extension": ".py",
   "mimetype": "text/x-python",
   "name": "python",
   "nbconvert_exporter": "python",
   "pygments_lexer": "ipython3",
   "version": "3.6.3"
  }
 },
 "nbformat": 4,
 "nbformat_minor": 2
}
